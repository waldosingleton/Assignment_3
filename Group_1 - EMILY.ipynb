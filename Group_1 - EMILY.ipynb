{
 "cells": [
  {
   "cell_type": "markdown",
   "metadata": {},
   "source": [
    "# BBC News Articles"
   ]
  },
  {
   "cell_type": "markdown",
   "metadata": {},
   "source": [
    "## Task 1: Exploratory Data Analytics\n",
    "###### (a) Load the dataset and construct a feature vector for each article in the. You need to report the number of articles, and the number of extracted features. Show 5 example articles with their extracted features using a dataframe.\n",
    "###### (b) Conduct term frequency analysis and report three plots: (i) top-50 term frequency distribution across the entire dataset, (ii) term frequency distribution for respective class of articles, and (iii) class distribution."
   ]
  },
  {
   "cell_type": "markdown",
   "metadata": {},
   "source": [
    "Setup"
   ]
  },
  {
   "cell_type": "code",
   "execution_count": 1,
   "metadata": {},
   "outputs": [],
   "source": [
    "import pandas as pd\n",
    "import numpy as np\n",
    "from sklearn.feature_extraction.text import TfidfVectorizer\n",
    "from sklearn.feature_extraction.text import CountVectorizer\n",
    "import random"
   ]
  },
  {
   "cell_type": "markdown",
   "metadata": {},
   "source": [
    "Import Data"
   ]
  },
  {
   "cell_type": "code",
   "execution_count": 66,
   "metadata": {},
   "outputs": [
    {
     "data": {
      "text/html": [
       "<div>\n",
       "<style scoped>\n",
       "    .dataframe tbody tr th:only-of-type {\n",
       "        vertical-align: middle;\n",
       "    }\n",
       "\n",
       "    .dataframe tbody tr th {\n",
       "        vertical-align: top;\n",
       "    }\n",
       "\n",
       "    .dataframe thead th {\n",
       "        text-align: right;\n",
       "    }\n",
       "</style>\n",
       "<table border=\"1\" class=\"dataframe\">\n",
       "  <thead>\n",
       "    <tr style=\"text-align: right;\">\n",
       "      <th></th>\n",
       "      <th>ArticleId</th>\n",
       "      <th>Text</th>\n",
       "      <th>Category</th>\n",
       "    </tr>\n",
       "  </thead>\n",
       "  <tbody>\n",
       "    <tr>\n",
       "      <th>0</th>\n",
       "      <td>1821</td>\n",
       "      <td>johnny denise lose passport johnny vaughan den...</td>\n",
       "      <td>entertainment</td>\n",
       "    </tr>\n",
       "    <tr>\n",
       "      <th>1</th>\n",
       "      <td>522</td>\n",
       "      <td>bt offers free net phone calls bt offering cus...</td>\n",
       "      <td>tech</td>\n",
       "    </tr>\n",
       "    <tr>\n",
       "      <th>2</th>\n",
       "      <td>636</td>\n",
       "      <td>power people says hp digital revolution focuse...</td>\n",
       "      <td>tech</td>\n",
       "    </tr>\n",
       "    <tr>\n",
       "      <th>3</th>\n",
       "      <td>170</td>\n",
       "      <td>stars gear bafta ceremony film stars across gl...</td>\n",
       "      <td>entertainment</td>\n",
       "    </tr>\n",
       "    <tr>\n",
       "      <th>4</th>\n",
       "      <td>85</td>\n",
       "      <td>controversial film tops festival controversial...</td>\n",
       "      <td>entertainment</td>\n",
       "    </tr>\n",
       "  </tbody>\n",
       "</table>\n",
       "</div>"
      ],
      "text/plain": [
       "  ArticleId                                               Text       Category\n",
       "0      1821  johnny denise lose passport johnny vaughan den...  entertainment\n",
       "1       522  bt offers free net phone calls bt offering cus...           tech\n",
       "2       636  power people says hp digital revolution focuse...           tech\n",
       "3       170  stars gear bafta ceremony film stars across gl...  entertainment\n",
       "4        85  controversial film tops festival controversial...  entertainment"
      ]
     },
     "execution_count": 66,
     "metadata": {},
     "output_type": "execute_result"
    }
   ],
   "source": [
    "df = pd.read_csv(\"train.csv\", skiprows=0, header=0, na_values= \"\", dtype=str)\n",
    "df.head()\n",
    "\n",
    "## Load Test Data ##\n",
    "testdf = pd.read_csv(\"test.csv\", skiprows=0, header=0, na_values= \"\", dtype=str)\n",
    "testdf.head()"
   ]
  },
  {
   "cell_type": "markdown",
   "metadata": {},
   "source": [
    "Vectorize Data"
   ]
  },
  {
   "cell_type": "code",
   "execution_count": 37,
   "metadata": {},
   "outputs": [
    {
     "name": "stdout",
     "output_type": "stream",
     "text": [
      "Method 1\n",
      "article vector\n",
      " [[0 1 0 ... 0 0 0]\n",
      " [0 0 0 ... 0 0 0]\n",
      " [0 0 0 ... 0 0 0]\n",
      " ...\n",
      " [0 0 0 ... 0 0 0]\n",
      " [0 0 0 ... 0 0 0]\n",
      " [0 0 0 ... 0 0 0]]\n",
      "\n",
      "article vector (5 articles)\n",
      " [[0 0 0 ... 0 0 0]\n",
      " [0 0 1 ... 1 0 0]\n",
      " [0 1 0 ... 0 0 0]\n",
      " [0 0 0 ... 0 1 0]\n",
      " [1 0 0 ... 0 0 1]]\n",
      "\n",
      " Method 2\n",
      "article vector\n",
      " [[0.         0.02011467 0.         ... 0.         0.         0.        ]\n",
      " [0.         0.         0.         ... 0.         0.         0.        ]\n",
      " [0.         0.         0.         ... 0.         0.         0.        ]\n",
      " ...\n",
      " [0.         0.         0.         ... 0.         0.         0.        ]\n",
      " [0.         0.         0.         ... 0.         0.         0.        ]\n",
      " [0.         0.         0.         ... 0.         0.         0.        ]]\n",
      "\n",
      "article vector (5 articles)\n",
      " [[0.         0.         0.         ... 0.         0.         0.        ]\n",
      " [0.         0.         0.08140554 ... 0.08140554 0.         0.        ]\n",
      " [0.         0.059516   0.         ... 0.         0.         0.        ]\n",
      " [0.         0.         0.         ... 0.         0.0722941  0.        ]\n",
      " [0.06848469 0.         0.         ... 0.         0.         0.06848469]]\n",
      "\n",
      "Articles: 428 , Extracted Features: 13518\n"
     ]
    }
   ],
   "source": [
    "articles_text = df[\"Text\"].to_numpy()\n",
    "\n",
    "#select 5 random articles for task 1\n",
    "random_sample = random.sample(list(articles_text), 5)\n",
    "\n",
    "## APPROACH ONE ##\n",
    "vectorizer1 = CountVectorizer()\n",
    "vectorizer1.fit(articles_text)\n",
    "\n",
    "vectorizer1_sample = CountVectorizer()\n",
    "vectorizer1_sample.fit(random_sample)\n",
    "\n",
    "#Summary\n",
    "#print(f'vector vocabulary - {vectorizer.vocabulary_}\\n')\n",
    "\n",
    "# encode document\n",
    "vector1 = vectorizer1.transform(articles_text)\n",
    "vector1_sample = vectorizer1_sample.transform(random_sample)\n",
    "\n",
    "# summarize encoded vector\n",
    "print(\"Method 1\")\n",
    "print(f'article vector\\n {vector1.toarray()}')\n",
    "print(f'\\narticle vector (5 articles)\\n {vector1_sample.toarray()}')\n",
    "\n",
    "## APPROACH TWO ##\n",
    "vectorizer2 = TfidfVectorizer()\n",
    "vectorizer2.fit(articles_text)\n",
    "\n",
    "vectorizer2_sample = TfidfVectorizer()\n",
    "vectorizer2_sample.fit(random_sample)\n",
    "\n",
    "#Summary\n",
    "#print(f'vector vocabulary - {vectorizer2.vocabulary_}\\n')\n",
    "\n",
    "# encode document\n",
    "vector2 = vectorizer2.fit_transform(articles_text)\n",
    "vector2_sample = vectorizer2_sample.transform(random_sample)\n",
    "\n",
    "# summarize encoded vector\n",
    "print('\\n', \"Method 2\")\n",
    "print(f'article vector\\n {vector2.toarray()}')\n",
    "print(f'\\narticle vector (5 articles)\\n {vector2_sample.toarray()}')\n",
    "print('\\nArticles:', vector2.shape[0], ', Extracted Features:', vector2.shape[1])\n",
    "\n",
    "# for my task\n",
    "## APPROACH ONE ##\n",
    "vectorizer1 = CountVectorizer()\n",
    "vectorizer1.fit(articles_text)\n",
    "\n",
    "vectorizer1_sample = CountVectorizer()\n",
    "vectorizer1_sample.fit(random_sample)\n",
    "\n",
    "# encode document\n",
    "vector1 = vectorizer1.transform(articles_text)\n",
    "vector1 = vector1.toarray()\n",
    "v1_names = vectorizer1.get_feature_names_out()\n",
    "\n",
    "vector1_sample = vectorizer1_sample.transform(random_sample)\n",
    "vector1_sample = vector1_sample.toarray()\n",
    "v1_sample_names = vectorizer1_sample.get_feature_names_out()\n",
    "\n",
    "#map sample to feature names\n",
    "v1_sample_df = pd.DataFrame(data=zip(v1_sample_names, vector1_sample[0], vector1_sample[1], vector1_sample[2], vector1_sample[3], vector1_sample[4], sum([vector1_sample[0], vector1_sample[1], vector1_sample[2], vector1_sample[3], vector1_sample[4]])), columns=['Features', 'Article 1', 'Article 2', 'Article 3', 'Article 4', 'Article 5', 'Total'])\n",
    "\n",
    "v1_df_emily = pd.DataFrame(data=vector1, columns = v1_names)"
   ]
  },
  {
   "cell_type": "markdown",
   "metadata": {},
   "source": [
    "## Task 2: Classification Models Learning"
   ]
  },
  {
   "cell_type": "markdown",
   "metadata": {},
   "source": [
    "### Logistic Regression\n",
    "###### Train your logistic regression classifier with L2-regularization. Consider different values of the regularization term λ. Describe the effect of the regularization parameter λ on the outcome in terms of bias and variance. Report the plot generated for specific λ values with training loss on the y-axis versus λ on the x-axis to support your claim."
   ]
  },
  {
   "cell_type": "code",
   "execution_count": 110,
   "metadata": {},
   "outputs": [
    {
     "name": "stdout",
     "output_type": "stream",
     "text": [
      "\n",
      " Logistic Regression Predictions\n",
      "        Prediction\n",
      "0    entertainment\n",
      "1             tech\n",
      "2             tech\n",
      "3    entertainment\n",
      "4    entertainment\n",
      "..             ...\n",
      "101  entertainment\n",
      "102  entertainment\n",
      "103  entertainment\n",
      "104           tech\n",
      "105           tech\n",
      "\n",
      "[106 rows x 1 columns]\n",
      "\n",
      " Logistic Regression Prediction Probabilities\n",
      "     Entertainment      Tech\n",
      "0         0.658963  0.341037\n",
      "1         0.112167  0.887833\n",
      "2         0.154608  0.845392\n",
      "3         0.941835  0.058165\n",
      "4         0.943972  0.056028\n",
      "..             ...       ...\n",
      "101       0.597341  0.402659\n",
      "102       0.792064  0.207936\n",
      "103       0.816202  0.183798\n",
      "104       0.137007  0.862993\n",
      "105       0.157883  0.842117\n",
      "\n",
      "[106 rows x 2 columns]\n",
      "\n",
      " Logistic Regression Accuracy\n",
      "0.9905660377358491\n"
     ]
    }
   ],
   "source": [
    "# Matthew Young\n",
    "# Logistic Regression Classifier\n",
    "\n",
    "# Import Libraries for LR, metrics, and graph plotting\n",
    "from sklearn.linear_model import LogisticRegression\n",
    "from sklearn import metrics\n",
    "from sklearn.metrics import log_loss\n",
    "from matplotlib import pyplot as plt\n",
    "\n",
    "traindf = df\n",
    "text_transformer = TfidfVectorizer()\n",
    "X_train_text = text_transformer.fit_transform(traindf['Text'])\n",
    "X_test_text = text_transformer.transform(testdf['Text'])\n",
    "\n",
    "y = traindf['Category']  #Target Variable of Category being Tech or Entertainment\n",
    "\n",
    "## L2 Regularization LR Classifer\n",
    "logreg = LogisticRegression(penalty='l2', solver='lbfgs', C=1, multi_class='multinomial')\n",
    "logreg.fit(X_train_text, y)\n",
    "\n",
    "logreg_prediction = logreg.predict(X_test_text)\n",
    "logreg_prediction_prob = logreg.predict_proba(X_test_text)\n",
    "\n",
    "# Logistic Regression Summary\n",
    "logreg_predict_df = pd.DataFrame(data=logreg_prediction, columns=['Prediction'])\n",
    "logreg_prediction_prob_df = pd.DataFrame(data=logreg_prediction_prob, columns=['Entertainment', 'Tech'])\n",
    "logreg_score = logreg.score(X_test_text, testdf['Category'])\n",
    "\n",
    "print('\\n', \"Logistic Regression Predictions\")\n",
    "print(logreg_predict_df)\n",
    "print('\\n', \"Logistic Regression Prediction Probabilities\")\n",
    "print(logreg_prediction_prob_df)\n",
    "print('\\n', \"Logistic Regression Accuracy\")\n",
    "print(logreg_score)\n"
   ]
  },
  {
   "cell_type": "code",
   "execution_count": 127,
   "metadata": {},
   "outputs": [
    {
     "ename": "ValueError",
     "evalue": "y_true and y_pred contain different number of classes 2, 13518. Please provide the true labels explicitly through the labels argument. Classes found in y_true: ['entertainment' 'tech']",
     "output_type": "error",
     "traceback": [
      "\u001b[1;31m---------------------------------------------------------------------------\u001b[0m",
      "\u001b[1;31mValueError\u001b[0m                                Traceback (most recent call last)",
      "\u001b[1;32mc:\\Users\\matt3\\Desktop\\Assignment_3\\Group_1 - EMILY.ipynb Cell 12'\u001b[0m in \u001b[0;36m<cell line: 7>\u001b[1;34m()\u001b[0m\n\u001b[0;32m      <a href='vscode-notebook-cell:/c%3A/Users/matt3/Desktop/Assignment_3/Group_1%20-%20EMILY.ipynb#ch0000024?line=7'>8</a>\u001b[0m     logreg \u001b[39m=\u001b[39m LogisticRegression(penalty\u001b[39m=\u001b[39m\u001b[39m'\u001b[39m\u001b[39ml2\u001b[39m\u001b[39m'\u001b[39m, solver\u001b[39m=\u001b[39m\u001b[39m'\u001b[39m\u001b[39mlbfgs\u001b[39m\u001b[39m'\u001b[39m, C\u001b[39m=\u001b[39m_lambda, multi_class\u001b[39m=\u001b[39m\u001b[39m'\u001b[39m\u001b[39mmultinomial\u001b[39m\u001b[39m'\u001b[39m)\n\u001b[0;32m      <a href='vscode-notebook-cell:/c%3A/Users/matt3/Desktop/Assignment_3/Group_1%20-%20EMILY.ipynb#ch0000024?line=8'>9</a>\u001b[0m     logreg\u001b[39m.\u001b[39mfit(X_train_text, y)\n\u001b[1;32m---> <a href='vscode-notebook-cell:/c%3A/Users/matt3/Desktop/Assignment_3/Group_1%20-%20EMILY.ipynb#ch0000024?line=9'>10</a>\u001b[0m     training_loss\u001b[39m.\u001b[39mappend(log_loss(y, X_train_text\u001b[39m.\u001b[39;49mtoarray()))\n\u001b[0;32m     <a href='vscode-notebook-cell:/c%3A/Users/matt3/Desktop/Assignment_3/Group_1%20-%20EMILY.ipynb#ch0000024?line=11'>12</a>\u001b[0m plt\u001b[39m.\u001b[39mplot(lambda_values, training_loss)\n\u001b[0;32m     <a href='vscode-notebook-cell:/c%3A/Users/matt3/Desktop/Assignment_3/Group_1%20-%20EMILY.ipynb#ch0000024?line=12'>13</a>\u001b[0m plt\u001b[39m.\u001b[39mxlabel(\u001b[39m'\u001b[39m\u001b[39mλ Values\u001b[39m\u001b[39m'\u001b[39m)\n",
      "File \u001b[1;32mc:\\Users\\matt3\\AppData\\Local\\Programs\\Python\\Python310\\lib\\site-packages\\sklearn\\metrics\\_classification.py:2424\u001b[0m, in \u001b[0;36mlog_loss\u001b[1;34m(y_true, y_pred, eps, normalize, sample_weight, labels)\u001b[0m\n\u001b[0;32m   <a href='file:///c%3A/Users/matt3/AppData/Local/Programs/Python/Python310/lib/site-packages/sklearn/metrics/_classification.py?line=2421'>2422</a>\u001b[0m \u001b[39mif\u001b[39;00m \u001b[39mlen\u001b[39m(lb\u001b[39m.\u001b[39mclasses_) \u001b[39m!=\u001b[39m y_pred\u001b[39m.\u001b[39mshape[\u001b[39m1\u001b[39m]:\n\u001b[0;32m   <a href='file:///c%3A/Users/matt3/AppData/Local/Programs/Python/Python310/lib/site-packages/sklearn/metrics/_classification.py?line=2422'>2423</a>\u001b[0m     \u001b[39mif\u001b[39;00m labels \u001b[39mis\u001b[39;00m \u001b[39mNone\u001b[39;00m:\n\u001b[1;32m-> <a href='file:///c%3A/Users/matt3/AppData/Local/Programs/Python/Python310/lib/site-packages/sklearn/metrics/_classification.py?line=2423'>2424</a>\u001b[0m         \u001b[39mraise\u001b[39;00m \u001b[39mValueError\u001b[39;00m(\n\u001b[0;32m   <a href='file:///c%3A/Users/matt3/AppData/Local/Programs/Python/Python310/lib/site-packages/sklearn/metrics/_classification.py?line=2424'>2425</a>\u001b[0m             \u001b[39m\"\u001b[39m\u001b[39my_true and y_pred contain different number of \u001b[39m\u001b[39m\"\u001b[39m\n\u001b[0;32m   <a href='file:///c%3A/Users/matt3/AppData/Local/Programs/Python/Python310/lib/site-packages/sklearn/metrics/_classification.py?line=2425'>2426</a>\u001b[0m             \u001b[39m\"\u001b[39m\u001b[39mclasses \u001b[39m\u001b[39m{0}\u001b[39;00m\u001b[39m, \u001b[39m\u001b[39m{1}\u001b[39;00m\u001b[39m. Please provide the true \u001b[39m\u001b[39m\"\u001b[39m\n\u001b[0;32m   <a href='file:///c%3A/Users/matt3/AppData/Local/Programs/Python/Python310/lib/site-packages/sklearn/metrics/_classification.py?line=2426'>2427</a>\u001b[0m             \u001b[39m\"\u001b[39m\u001b[39mlabels explicitly through the labels argument. \u001b[39m\u001b[39m\"\u001b[39m\n\u001b[0;32m   <a href='file:///c%3A/Users/matt3/AppData/Local/Programs/Python/Python310/lib/site-packages/sklearn/metrics/_classification.py?line=2427'>2428</a>\u001b[0m             \u001b[39m\"\u001b[39m\u001b[39mClasses found in \u001b[39m\u001b[39m\"\u001b[39m\n\u001b[0;32m   <a href='file:///c%3A/Users/matt3/AppData/Local/Programs/Python/Python310/lib/site-packages/sklearn/metrics/_classification.py?line=2428'>2429</a>\u001b[0m             \u001b[39m\"\u001b[39m\u001b[39my_true: \u001b[39m\u001b[39m{2}\u001b[39;00m\u001b[39m\"\u001b[39m\u001b[39m.\u001b[39mformat(\n\u001b[0;32m   <a href='file:///c%3A/Users/matt3/AppData/Local/Programs/Python/Python310/lib/site-packages/sklearn/metrics/_classification.py?line=2429'>2430</a>\u001b[0m                 transformed_labels\u001b[39m.\u001b[39mshape[\u001b[39m1\u001b[39m], y_pred\u001b[39m.\u001b[39mshape[\u001b[39m1\u001b[39m], lb\u001b[39m.\u001b[39mclasses_\n\u001b[0;32m   <a href='file:///c%3A/Users/matt3/AppData/Local/Programs/Python/Python310/lib/site-packages/sklearn/metrics/_classification.py?line=2430'>2431</a>\u001b[0m             )\n\u001b[0;32m   <a href='file:///c%3A/Users/matt3/AppData/Local/Programs/Python/Python310/lib/site-packages/sklearn/metrics/_classification.py?line=2431'>2432</a>\u001b[0m         )\n\u001b[0;32m   <a href='file:///c%3A/Users/matt3/AppData/Local/Programs/Python/Python310/lib/site-packages/sklearn/metrics/_classification.py?line=2432'>2433</a>\u001b[0m     \u001b[39melse\u001b[39;00m:\n\u001b[0;32m   <a href='file:///c%3A/Users/matt3/AppData/Local/Programs/Python/Python310/lib/site-packages/sklearn/metrics/_classification.py?line=2433'>2434</a>\u001b[0m         \u001b[39mraise\u001b[39;00m \u001b[39mValueError\u001b[39;00m(\n\u001b[0;32m   <a href='file:///c%3A/Users/matt3/AppData/Local/Programs/Python/Python310/lib/site-packages/sklearn/metrics/_classification.py?line=2434'>2435</a>\u001b[0m             \u001b[39m\"\u001b[39m\u001b[39mThe number of classes in labels is different \u001b[39m\u001b[39m\"\u001b[39m\n\u001b[0;32m   <a href='file:///c%3A/Users/matt3/AppData/Local/Programs/Python/Python310/lib/site-packages/sklearn/metrics/_classification.py?line=2435'>2436</a>\u001b[0m             \u001b[39m\"\u001b[39m\u001b[39mfrom that in y_pred. Classes found in \u001b[39m\u001b[39m\"\u001b[39m\n\u001b[0;32m   <a href='file:///c%3A/Users/matt3/AppData/Local/Programs/Python/Python310/lib/site-packages/sklearn/metrics/_classification.py?line=2436'>2437</a>\u001b[0m             \u001b[39m\"\u001b[39m\u001b[39mlabels: \u001b[39m\u001b[39m{0}\u001b[39;00m\u001b[39m\"\u001b[39m\u001b[39m.\u001b[39mformat(lb\u001b[39m.\u001b[39mclasses_)\n\u001b[0;32m   <a href='file:///c%3A/Users/matt3/AppData/Local/Programs/Python/Python310/lib/site-packages/sklearn/metrics/_classification.py?line=2437'>2438</a>\u001b[0m         )\n",
      "\u001b[1;31mValueError\u001b[0m: y_true and y_pred contain different number of classes 2, 13518. Please provide the true labels explicitly through the labels argument. Classes found in y_true: ['entertainment' 'tech']"
     ]
    }
   ],
   "source": [
    "# LR Plot\n",
    "# X-Axis: Lambda\n",
    "# Y-Axis: Training/Log Loss\n",
    "\n",
    "lambda_values = [0.00000001, 0.0000001, 0.000001, 0.00001, 0.0001, 0.001, 0.01, 0.1, 1]\n",
    "training_loss = []\n",
    "for _lambda in lambda_values:\n",
    "    logreg = LogisticRegression(penalty='l2', solver='lbfgs', C=_lambda, multi_class='multinomial')\n",
    "    logreg.fit(X_train_text, y)\n",
    "    training_loss.append(log_loss(y, logreg.predict_proba(X_train_text)))\n",
    "\n",
    "plt.plot(lambda_values, training_loss)\n",
    "plt.xlabel('λ Values')\n",
    "plt.ylabel('Training Loss')\n",
    "plt.show()\n"
   ]
  },
  {
   "cell_type": "markdown",
   "metadata": {},
   "source": [
    "Regularization is the technique used to reduce error by fitting a function appropriately on the given training set and avoid under/overfitting.\n",
    "\n",
    "The effect of the regularization parameter λ on the outcome in terms of bias and variance is that as the lambda parameter increases, training error increases. Regularization forces parameters to be close to 0 which causes the variance to decrease, but as we are allowing less flexibility, the model moves away from the true values, thus increasing bias."
   ]
  },
  {
   "cell_type": "markdown",
   "metadata": {},
   "source": [
    "### Naive Bayes\n",
    "###### Train a Naive Bayes classifier using all articles features. Report the (i) top-20 most identifiable words that are most likely to occur in the articles over two classes using your NB classifier, and (ii) the top-20 words that maximize the following quantity 𝑃(𝑋𝑤=1|𝑌=𝑦)/𝑃(𝑋𝑤=1|𝑌≠𝑦). Which list of words describe the two classes better? Briefly explain your reasoning. - She's going to change some stuff and make an announcement\n"
   ]
  },
  {
   "cell_type": "code",
   "execution_count": 5,
   "metadata": {},
   "outputs": [
    {
     "name": "stdout",
     "output_type": "stream",
     "text": [
      "0.9953271028037384 or 0.9953271028037384\n"
     ]
    }
   ],
   "source": [
    "# Emily\n",
    "\n",
    "from sklearn.naive_bayes import MultinomialNB\n",
    "from sklearn import metrics\n",
    "\n",
    "# X_train is vectorised features, Y_train is the classes of each row / target variable\n",
    "X_train = vector2.toarray()\n",
    "target_col = df[\"Category\"]\n",
    "Y_train = target_col.to_numpy()\n",
    "\n",
    "NB_clf = MultinomialNB()\n",
    "NB_clf.fit(X_train, Y_train)\n",
    "\n",
    "# Training accuracy\n",
    "y_train_pred = NB_clf.predict(X_train)\n",
    "train_acc = metrics.accuracy_score(Y_train, y_train_pred)\n",
    "# or\n",
    "train_acc_2 = NB_clf.score(X_train, Y_train)\n",
    "\n",
    "print(train_acc, \"or\", train_acc_2)\n",
    "\n",
    "# Testing accuracy\n",
    "#Y_pred = NB_clf.predict(X_test)\n",
    "#print(\"Test Accuracy:\",metrics.accuracy_score(Y_Test, Y_pred))\n",
    "\n",
    "\n",
    "\n"
   ]
  },
  {
   "cell_type": "markdown",
   "metadata": {},
   "source": [
    "### (i)"
   ]
  },
  {
   "cell_type": "code",
   "execution_count": 81,
   "metadata": {},
   "outputs": [
    {
     "name": "stdout",
     "output_type": "stream",
     "text": [
      "Top 20 Tech:\n",
      "said          892\n",
      "people        507\n",
      "new           304\n",
      "mobile        290\n",
      "mr            288\n",
      "one           286\n",
      "also          273\n",
      "would         267\n",
      "could         255\n",
      "technology    247\n",
      "use           228\n",
      "users         214\n",
      "net           214\n",
      "software      213\n",
      "games         212\n",
      "us            210\n",
      "music         203\n",
      "many          202\n",
      "year          201\n",
      "phone         196\n",
      "dtype: int64\n",
      "Top 20 Entertainment:\n",
      "said      465\n",
      "film      420\n",
      "best      324\n",
      "year      241\n",
      "music     210\n",
      "also      206\n",
      "us        201\n",
      "new       196\n",
      "one       193\n",
      "show      180\n",
      "first     155\n",
      "awards    137\n",
      "tv        130\n",
      "last      127\n",
      "uk        127\n",
      "actor     126\n",
      "number    124\n",
      "band      123\n",
      "mr        120\n",
      "star      118\n",
      "dtype: int64\n"
     ]
    }
   ],
   "source": [
    "# Df for grouping - vectorsied df with target df \n",
    "count_df = pd.concat([v1_df_emily,target_col], axis=1)\n",
    "\n",
    "# Grouped data by category\n",
    "grouped = count_df.groupby(count_df.Category)\n",
    "\n",
    "# Split data into df of each category\n",
    "# dropped category column for sum\n",
    "tech_df = grouped.get_group(\"tech\")\n",
    "tech_df = tech_df.drop(\"Category\", axis=1)\n",
    "\n",
    "ent_df = grouped.get_group(\"entertainment\")\n",
    "ent_df = ent_df.drop(\"Category\", axis=1)\n",
    "\n",
    "# Summed each colum in each df\n",
    "sum_tech_series = tech_df.sum()\n",
    "sum_ent_series = ent_df.sum()\n",
    "\n",
    "# Sorting each series to get top 20\n",
    "sorted_tech = sum_tech_series.sort_values(ascending = False)\n",
    "top_20_tech = sorted_tech[:20]\n",
    "print(\"Top 20 Tech:\")\n",
    "print(top_20_tech)\n",
    "\n",
    "sorted_ent = sum_ent_series.sort_values(ascending = False)\n",
    "top_20_ent = sorted_ent[:20]\n",
    "print(\"Top 20 Entertainment:\")\n",
    "print(top_20_ent)"
   ]
  },
  {
   "cell_type": "markdown",
   "metadata": {},
   "source": [
    "### (ii)"
   ]
  },
  {
   "cell_type": "code",
   "execution_count": 83,
   "metadata": {},
   "outputs": [
    {
     "name": "stdout",
     "output_type": "stream",
     "text": [
      "Top 20 Tech:\n",
      "people        1.341420\n",
      "said          1.223264\n",
      "mobile        1.168540\n",
      "technology    1.064229\n",
      "use           0.997203\n",
      "users         0.995370\n",
      "software      0.993056\n",
      "net           0.990697\n",
      "games         0.981481\n",
      "phone         0.944791\n",
      "could         0.941503\n",
      "mr            0.909314\n",
      "computer      0.894544\n",
      "would         0.892760\n",
      "digital       0.871711\n",
      "microsoft     0.856481\n",
      "many          0.852930\n",
      "service       0.843495\n",
      "online        0.838679\n",
      "internet      0.833805\n",
      "dtype: float64\n",
      "Top 20 Entertainment:\n",
      "film        1.358491\n",
      "best        1.164420\n",
      "awards      0.793716\n",
      "actor       0.791672\n",
      "band        0.788270\n",
      "show        0.763664\n",
      "star        0.758976\n",
      "award       0.756608\n",
      "album       0.729444\n",
      "year        0.729142\n",
      "actress     0.712264\n",
      "singer      0.709906\n",
      "chart       0.708266\n",
      "oscar       0.705189\n",
      "british     0.695703\n",
      "director    0.694975\n",
      "films       0.684314\n",
      "music       0.677106\n",
      "stars       0.676887\n",
      "musical     0.666725\n",
      "dtype: float64\n"
     ]
    }
   ],
   "source": [
    "total_tech = tech_df.shape[0]\n",
    "prob_word_given_tech = sum_tech_series / total_tech\n",
    "\n",
    "total_ent = ent_df.shape[0]\n",
    "prob_word_given_ent = sum_ent_series / total_ent\n",
    "\n",
    "# prob of word in tech / prob of word not in tech - with smoothing\n",
    "tech_series = (prob_word_given_tech + 1) / (prob_word_given_ent + 2)\n",
    "\n",
    "# prob of word in entertainment / prob of word not in entertainment - with smoothing\n",
    "ent_series = (prob_word_given_ent + 1) / (prob_word_given_tech + 2)\n",
    "\n",
    "# Sorting each series to get top 20\n",
    "sorted_tech2 = tech_series.sort_values(ascending = False)\n",
    "top_20_tech2 = sorted_tech2[:20]\n",
    "print(\"Top 20 Tech:\")\n",
    "print(top_20_tech2)\n",
    "\n",
    "sorted_ent2 = ent_series.sort_values(ascending = False)\n",
    "top_20_ent2 = sorted_ent2[:20]\n",
    "print(\"Top 20 Entertainment:\")\n",
    "print(top_20_ent2)\n"
   ]
  },
  {
   "cell_type": "markdown",
   "metadata": {},
   "source": [
    "Difference - there is a difference just by looking at them, the top20 words from (ii) look to be more relevent than the top20 words from (i). So (ii) seems to be the better formula.\n",
    "\n"
   ]
  },
  {
   "cell_type": "markdown",
   "metadata": {},
   "source": [
    "### NTS - What I need to do\n",
    "Cut the data df into the two classes\n",
    "add up word count for each column \n",
    "pick ones with the top counts\n",
    "\n",
    "count of the class i'm looking at / count of class i'm not looking at\n",
    "\n",
    "df.sum() - give array \n",
    "arc sort "
   ]
  },
  {
   "cell_type": "markdown",
   "metadata": {},
   "source": [
    "### Soft Value Margin (SVM)\n",
    "###### Train your SVM classification models on the training dataset. You need to report two surface plots for: (i) the soft-margin linear SVM with your choice of misclassification penalty (𝐶), and (ii) the hard-margin RBF kernel with your choice of kernel width (σ). Explain the impact of penalty 𝐶 on the soft-margin decision boundaries, as well as the kernel hyperparameter on the hard-margin decision boundaries."
   ]
  },
  {
   "cell_type": "code",
   "execution_count": null,
   "metadata": {},
   "outputs": [],
   "source": [
    "# Humza"
   ]
  },
  {
   "cell_type": "markdown",
   "metadata": {},
   "source": [
    "### Nearest Neighbor\n",
    "###### Consider the neural network with the following hyperparameters: the initial weights uniformly drawn in range [0,0.1] with learning rate 0.01.\n",
    "######  ● Train a single hidden layer neural network using the hyperparameters on the training dataset, except for the number of hidden units (x) which should vary among 5, 20, and 40. Run the optimization for 100 epochs each time. Namely, the input layer consists of n features x = [x1, ..., xn]T , the hidden layer has x nodes z = [z1, ..., zx]T , and the output layer is a probability distribution y = [y1, y2]T over two classes.\n",
    "######  ● Plot the average training cross-entropy loss as shown below on the y-axis versus the number of hidden units on the x-axis. Explain the effect of numbers of hidden units. 𝐶𝑟𝑜𝑠𝑠𝐸𝑛𝑡𝑟𝑜𝑝𝑦𝐿𝑜𝑠𝑠 =− 𝑖=1 2 Σ 𝑦𝑖 log(𝑦𝑖 ^ )"
   ]
  },
  {
   "cell_type": "code",
   "execution_count": null,
   "metadata": {},
   "outputs": [],
   "source": []
  }
 ],
 "metadata": {
  "interpreter": {
   "hash": "8471e12cab07c52a942a04ee5723bc328a80c174fa96b210ede9dde21e6dc81a"
  },
  "kernelspec": {
   "display_name": "Python 3.10.2 64-bit",
   "language": "python",
   "name": "python3"
  },
  "language_info": {
   "codemirror_mode": {
    "name": "ipython",
    "version": 3
   },
   "file_extension": ".py",
   "mimetype": "text/x-python",
   "name": "python",
   "nbconvert_exporter": "python",
   "pygments_lexer": "ipython3",
   "version": "3.10.2"
  },
  "orig_nbformat": 4
 },
 "nbformat": 4,
 "nbformat_minor": 2
}
