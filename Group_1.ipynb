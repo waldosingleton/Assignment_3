{
 "cells": [
  {
   "cell_type": "markdown",
   "metadata": {},
   "source": [
    "# BBC News Articles"
   ]
  },
  {
   "cell_type": "markdown",
   "metadata": {},
   "source": [
    "## Task 1: Exploratory Data Analytics\n",
    "###### (a) Load the dataset and construct a feature vector for each article in the entire dataset. You need to report the number of articles, and the number of extracted features. Show 5 example articles with their extracted features using a dataframe.\n",
    "###### (b) Conduct term frequency analysis and report three plots: (i) top-50 term frequency distribution across the entire dataset, (ii) term frequency distribution for respective class of articles, and (iii) class distribution."
   ]
  },
  {
   "cell_type": "markdown",
   "metadata": {},
   "source": [
    "Setup"
   ]
  },
  {
   "cell_type": "code",
<<<<<<< HEAD
   "execution_count": 1,
=======
   "execution_count": 2,
>>>>>>> 78e8d6cb5223193048476b22bce0ecf8058ae9f1
   "metadata": {},
   "outputs": [],
   "source": [
    "import pandas as pd\n",
    "import numpy as np\n",
    "from sklearn.feature_extraction.text import TfidfVectorizer\n",
    "from sklearn.feature_extraction.text import CountVectorizer\n",
    "from sklearn.feature_extraction.text import TfidfTransformer\n",
    "import random\n",
    "import matplotlib.pyplot as plt"
   ]
  },
  {
   "cell_type": "markdown",
   "metadata": {},
   "source": [
    "Import Data"
   ]
  },
  {
   "cell_type": "code",
<<<<<<< HEAD
   "execution_count": 2,
   "metadata": {},
   "outputs": [
    {
     "data": {
      "text/html": [
       "<div>\n",
       "<style scoped>\n",
       "    .dataframe tbody tr th:only-of-type {\n",
       "        vertical-align: middle;\n",
       "    }\n",
       "\n",
       "    .dataframe tbody tr th {\n",
       "        vertical-align: top;\n",
       "    }\n",
       "\n",
       "    .dataframe thead th {\n",
       "        text-align: right;\n",
       "    }\n",
       "</style>\n",
       "<table border=\"1\" class=\"dataframe\">\n",
       "  <thead>\n",
       "    <tr style=\"text-align: right;\">\n",
       "      <th></th>\n",
       "      <th>ArticleId</th>\n",
       "      <th>Text</th>\n",
       "      <th>Category</th>\n",
       "    </tr>\n",
       "  </thead>\n",
       "  <tbody>\n",
       "    <tr>\n",
       "      <th>0</th>\n",
       "      <td>1976</td>\n",
       "      <td>lifestyle governs mobile choice faster better ...</td>\n",
       "      <td>tech</td>\n",
       "    </tr>\n",
       "    <tr>\n",
       "      <th>1</th>\n",
       "      <td>1797</td>\n",
       "      <td>french honour director parker british film dir...</td>\n",
       "      <td>entertainment</td>\n",
       "    </tr>\n",
       "    <tr>\n",
       "      <th>2</th>\n",
       "      <td>1866</td>\n",
       "      <td>fockers fuel festive film chart comedy meet fo...</td>\n",
       "      <td>entertainment</td>\n",
       "    </tr>\n",
       "    <tr>\n",
       "      <th>3</th>\n",
       "      <td>1153</td>\n",
       "      <td>housewives lift channel 4 ratings debut us tel...</td>\n",
       "      <td>entertainment</td>\n",
       "    </tr>\n",
       "    <tr>\n",
       "      <th>4</th>\n",
       "      <td>342</td>\n",
       "      <td>u2 desire number one u2 three prestigious gram...</td>\n",
       "      <td>entertainment</td>\n",
       "    </tr>\n",
       "  </tbody>\n",
       "</table>\n",
       "</div>"
      ],
      "text/plain": [
       "  ArticleId                                               Text       Category\n",
       "0      1976  lifestyle governs mobile choice faster better ...           tech\n",
       "1      1797  french honour director parker british film dir...  entertainment\n",
       "2      1866  fockers fuel festive film chart comedy meet fo...  entertainment\n",
       "3      1153  housewives lift channel 4 ratings debut us tel...  entertainment\n",
       "4       342  u2 desire number one u2 three prestigious gram...  entertainment"
      ]
     },
     "execution_count": 2,
     "metadata": {},
     "output_type": "execute_result"
    }
   ],
=======
   "execution_count": 3,
   "metadata": {},
   "outputs": [],
>>>>>>> 78e8d6cb5223193048476b22bce0ecf8058ae9f1
   "source": [
    "df = pd.read_csv(\"train.csv\", skiprows=0, header=0, na_values= \"\", dtype=str)\n",
    "df.head()\n",
    "\n",
    "testdf = pd.read_csv(\"test.csv\", skiprows=0, header=0, na_values= \"\", dtype=str)"
   ]
  },
  {
   "cell_type": "markdown",
   "metadata": {},
   "source": [
    "Vectorize Data"
   ]
  },
  {
   "cell_type": "code",
<<<<<<< HEAD
   "execution_count": 3,
=======
   "execution_count": 4,
>>>>>>> 78e8d6cb5223193048476b22bce0ecf8058ae9f1
   "metadata": {},
   "outputs": [
    {
     "name": "stdout",
     "output_type": "stream",
     "text": [
      "Method 1\n",
      "article vector\n",
      " [[0 1 0 ... 0 0 0]\n",
      " [0 0 0 ... 0 0 0]\n",
      " [0 0 0 ... 0 0 0]\n",
      " ...\n",
      " [0 0 0 ... 0 0 0]\n",
      " [0 0 0 ... 0 0 0]\n",
      " [0 0 0 ... 0 0 0]]\n",
      "\n",
      "Articles: 428 , Extracted Features: 13518\n",
      "\n",
      "article vector (5 articles)\n",
<<<<<<< HEAD
      " [[0 1 0 ... 0 0 0]\n",
      " [0 0 1 ... 1 0 0]\n",
      " [0 0 1 ... 0 3 1]\n",
      " [2 0 0 ... 0 0 0]\n",
      " [0 0 0 ... 0 0 0]]\n"
=======
      " [[0 0 0 ... 0 0 1]\n",
      " [2 0 0 ... 0 7 1]\n",
      " [1 1 0 ... 0 0 0]\n",
      " [0 0 0 ... 1 0 0]\n",
      " [1 0 1 ... 0 2 1]]\n"
>>>>>>> 78e8d6cb5223193048476b22bce0ecf8058ae9f1
     ]
    },
    {
     "data": {
      "text/html": [
       "<div>\n",
       "<style scoped>\n",
       "    .dataframe tbody tr th:only-of-type {\n",
       "        vertical-align: middle;\n",
       "    }\n",
       "\n",
       "    .dataframe tbody tr th {\n",
       "        vertical-align: top;\n",
       "    }\n",
       "\n",
       "    .dataframe thead th {\n",
       "        text-align: right;\n",
       "    }\n",
       "</style>\n",
       "<table border=\"1\" class=\"dataframe\">\n",
       "  <thead>\n",
       "    <tr style=\"text-align: right;\">\n",
       "      <th></th>\n",
       "      <th>Features</th>\n",
       "      <th>Article 1</th>\n",
       "      <th>Article 2</th>\n",
       "      <th>Article 3</th>\n",
       "      <th>Article 4</th>\n",
       "      <th>Article 5</th>\n",
       "      <th>Total</th>\n",
       "    </tr>\n",
       "  </thead>\n",
       "  <tbody>\n",
       "    <tr>\n",
       "      <th>0</th>\n",
       "      <td>000</td>\n",
       "      <td>0</td>\n",
<<<<<<< HEAD
       "      <td>0</td>\n",
       "      <td>0</td>\n",
       "      <td>2</td>\n",
       "      <td>0</td>\n",
       "      <td>2</td>\n",
       "    </tr>\n",
       "    <tr>\n",
       "      <th>1</th>\n",
       "      <td>10</td>\n",
       "      <td>1</td>\n",
=======
       "      <td>2</td>\n",
       "      <td>1</td>\n",
       "      <td>0</td>\n",
       "      <td>1</td>\n",
       "      <td>4</td>\n",
       "    </tr>\n",
       "    <tr>\n",
       "      <th>1</th>\n",
       "      <td>0700</td>\n",
>>>>>>> 78e8d6cb5223193048476b22bce0ecf8058ae9f1
       "      <td>0</td>\n",
       "      <td>0</td>\n",
       "      <td>1</td>\n",
       "      <td>0</td>\n",
       "      <td>0</td>\n",
       "      <td>1</td>\n",
       "    </tr>\n",
       "    <tr>\n",
       "      <th>2</th>\n",
       "      <td>10</td>\n",
       "      <td>0</td>\n",
<<<<<<< HEAD
       "      <td>1</td>\n",
       "      <td>1</td>\n",
       "      <td>0</td>\n",
       "      <td>0</td>\n",
       "      <td>2</td>\n",
       "    </tr>\n",
       "    <tr>\n",
       "      <th>3</th>\n",
       "      <td>12</td>\n",
       "      <td>1</td>\n",
       "      <td>1</td>\n",
       "      <td>0</td>\n",
       "      <td>0</td>\n",
       "      <td>0</td>\n",
=======
       "      <td>0</td>\n",
       "      <td>0</td>\n",
       "      <td>0</td>\n",
       "      <td>1</td>\n",
       "      <td>1</td>\n",
       "    </tr>\n",
       "    <tr>\n",
       "      <th>3</th>\n",
       "      <td>11</td>\n",
       "      <td>0</td>\n",
       "      <td>2</td>\n",
       "      <td>0</td>\n",
       "      <td>0</td>\n",
       "      <td>0</td>\n",
>>>>>>> 78e8d6cb5223193048476b22bce0ecf8058ae9f1
       "      <td>2</td>\n",
       "    </tr>\n",
       "    <tr>\n",
       "      <th>4</th>\n",
<<<<<<< HEAD
       "      <td>14</td>\n",
=======
       "      <td>120</td>\n",
>>>>>>> 78e8d6cb5223193048476b22bce0ecf8058ae9f1
       "      <td>0</td>\n",
       "      <td>1</td>\n",
       "      <td>0</td>\n",
       "      <td>1</td>\n",
       "      <td>0</td>\n",
       "      <td>0</td>\n",
       "      <td>1</td>\n",
       "    </tr>\n",
       "    <tr>\n",
       "      <th>...</th>\n",
       "      <td>...</td>\n",
       "      <td>...</td>\n",
       "      <td>...</td>\n",
       "      <td>...</td>\n",
       "      <td>...</td>\n",
       "      <td>...</td>\n",
       "      <td>...</td>\n",
       "    </tr>\n",
       "    <tr>\n",
<<<<<<< HEAD
       "      <th>622</th>\n",
       "      <td>xp</td>\n",
       "      <td>0</td>\n",
       "      <td>0</td>\n",
       "      <td>0</td>\n",
       "      <td>0</td>\n",
       "      <td>1</td>\n",
       "      <td>1</td>\n",
       "    </tr>\n",
       "    <tr>\n",
       "      <th>623</th>\n",
       "      <td>year</td>\n",
       "      <td>1</td>\n",
       "      <td>1</td>\n",
       "      <td>2</td>\n",
       "      <td>1</td>\n",
       "      <td>3</td>\n",
       "      <td>8</td>\n",
       "    </tr>\n",
       "    <tr>\n",
       "      <th>624</th>\n",
       "      <td>yolande</td>\n",
=======
       "      <th>750</th>\n",
       "      <td>writers</td>\n",
       "      <td>0</td>\n",
       "      <td>0</td>\n",
       "      <td>0</td>\n",
       "      <td>0</td>\n",
       "      <td>2</td>\n",
       "      <td>2</td>\n",
       "    </tr>\n",
       "    <tr>\n",
       "      <th>751</th>\n",
       "      <td>xbox</td>\n",
       "      <td>0</td>\n",
       "      <td>3</td>\n",
       "      <td>0</td>\n",
       "      <td>0</td>\n",
       "      <td>0</td>\n",
       "      <td>3</td>\n",
       "    </tr>\n",
       "    <tr>\n",
       "      <th>752</th>\n",
       "      <td>yahoo</td>\n",
>>>>>>> 78e8d6cb5223193048476b22bce0ecf8058ae9f1
       "      <td>0</td>\n",
       "      <td>1</td>\n",
       "      <td>0</td>\n",
       "      <td>0</td>\n",
       "      <td>1</td>\n",
       "      <td>0</td>\n",
       "      <td>1</td>\n",
       "    </tr>\n",
       "    <tr>\n",
<<<<<<< HEAD
       "      <th>625</th>\n",
       "      <td>young</td>\n",
       "      <td>0</td>\n",
       "      <td>0</td>\n",
       "      <td>3</td>\n",
       "      <td>0</td>\n",
       "      <td>0</td>\n",
       "      <td>3</td>\n",
       "    </tr>\n",
       "    <tr>\n",
       "      <th>626</th>\n",
       "      <td>yoxall</td>\n",
       "      <td>0</td>\n",
       "      <td>0</td>\n",
=======
       "      <th>753</th>\n",
       "      <td>year</td>\n",
       "      <td>0</td>\n",
       "      <td>7</td>\n",
       "      <td>0</td>\n",
       "      <td>0</td>\n",
       "      <td>2</td>\n",
       "      <td>9</td>\n",
       "    </tr>\n",
       "    <tr>\n",
       "      <th>754</th>\n",
       "      <td>yet</td>\n",
       "      <td>1</td>\n",
>>>>>>> 78e8d6cb5223193048476b22bce0ecf8058ae9f1
       "      <td>1</td>\n",
       "      <td>0</td>\n",
       "      <td>0</td>\n",
       "      <td>1</td>\n",
<<<<<<< HEAD
       "    </tr>\n",
       "  </tbody>\n",
       "</table>\n",
       "<p>627 rows × 7 columns</p>\n",
=======
       "      <td>3</td>\n",
       "    </tr>\n",
       "  </tbody>\n",
       "</table>\n",
       "<p>755 rows × 7 columns</p>\n",
>>>>>>> 78e8d6cb5223193048476b22bce0ecf8058ae9f1
       "</div>"
      ],
      "text/plain": [
       "    Features  Article 1  Article 2  Article 3  Article 4  Article 5  Total\n",
<<<<<<< HEAD
       "0        000          0          0          0          2          0      2\n",
       "1         10          1          0          0          0          0      1\n",
       "2         11          0          1          1          0          0      2\n",
       "3         12          1          1          0          0          0      2\n",
       "4         14          0          0          1          0          0      1\n",
       "..       ...        ...        ...        ...        ...        ...    ...\n",
       "622       xp          0          0          0          0          1      1\n",
       "623     year          1          1          2          1          3      8\n",
       "624  yolande          0          1          0          0          0      1\n",
       "625    young          0          0          3          0          0      3\n",
       "626   yoxall          0          0          1          0          0      1\n",
       "\n",
       "[627 rows x 7 columns]"
      ]
     },
     "execution_count": 3,
=======
       "0        000          0          2          1          0          1      4\n",
       "1       0700          0          0          1          0          0      1\n",
       "2         10          0          0          0          0          1      1\n",
       "3         11          0          2          0          0          0      2\n",
       "4        120          0          1          0          0          0      1\n",
       "..       ...        ...        ...        ...        ...        ...    ...\n",
       "750  writers          0          0          0          0          2      2\n",
       "751     xbox          0          3          0          0          0      3\n",
       "752    yahoo          0          0          0          1          0      1\n",
       "753     year          0          7          0          0          2      9\n",
       "754      yet          1          1          0          0          1      3\n",
       "\n",
       "[755 rows x 7 columns]"
      ]
     },
     "execution_count": 4,
>>>>>>> 78e8d6cb5223193048476b22bce0ecf8058ae9f1
     "metadata": {},
     "output_type": "execute_result"
    }
   ],
   "source": [
    "articles_text = df[\"Text\"].to_numpy()\n",
    "\n",
    "#select 5 random articles for task 1\n",
    "random_sample = random.sample(list(articles_text), 5)\n",
    "\n",
    "## APPROACH ONE ##\n",
    "vectorizer1 = CountVectorizer()\n",
    "vectorizer1.fit(articles_text)\n",
    "\n",
    "vectorizer1_sample = CountVectorizer()\n",
    "vectorizer1_sample.fit(random_sample)\n",
    "\n",
    "# encode document\n",
    "vector1 = vectorizer1.transform(articles_text)\n",
    "vector1 = vector1.toarray()\n",
    "v1_names = vectorizer1.get_feature_names_out()\n",
    "\n",
    "vector1_sample = vectorizer1_sample.transform(random_sample)\n",
    "vector1_sample = vector1_sample.toarray()\n",
    "v1_sample_names = vectorizer1_sample.get_feature_names_out()\n",
    "\n",
    "#map sample to feature names\n",
    "v1_sample_df = pd.DataFrame(data=zip(v1_sample_names, vector1_sample[0], vector1_sample[1], vector1_sample[2], vector1_sample[3], vector1_sample[4], sum([vector1_sample[0], vector1_sample[1], vector1_sample[2], vector1_sample[3], vector1_sample[4]])), columns=['Features', 'Article 1', 'Article 2', 'Article 3', 'Article 4', 'Article 5', 'Total'])\n",
    "\n",
    "v1_df = pd.DataFrame(data=vector1, columns = v1_names)\n",
    "\n",
    "v1_df_emily = pd.DataFrame(data=vector1, columns = v1_names)\n",
    "\n",
    "\n",
    "# summarize encoded vector\n",
    "print(\"Method 1\")\n",
    "print(f'article vector\\n {vector1}')\n",
    "print('\\nArticles:', vector1.shape[0], ', Extracted Features:', vector1.shape[1])\n",
    "print(f'\\narticle vector (5 articles)\\n {vector1_sample}')\n",
    "\n",
    "v1_sample_df.head(vector1_sample.shape[1])\n",
    "\n",
    "\n",
    "## APPROACH TWO ## MAYBE DELETE IF NOT USED????\n",
    "#vectorizer2 = TfidfVectorizer()\n",
    "#vectorizer2.fit(articles_text)\n",
    "\n",
    "#vectorizer2_sample = TfidfVectorizer()\n",
    "#vectorizer2_sample.fit(random_sample)\n",
    "\n",
    "#Summary\n",
    "#print(f'vector vocabulary - {vectorizer.vocabulary_}\\n')\n",
    "\n",
    "# encode document\n",
    "#vector2 = vectorizer2.transform(articles_text)\n",
    "#vector2_sample = vectorizer2_sample.transform(random_sample)\n",
    "\n",
    "# summarize encoded vector\n",
    "#print('\\n', \"Method 2\")\n",
    "#print(f'article vector\\n {vector2.toarray()}')\n",
    "#print(f'\\narticle vector (5 articles)\\n {vector2_sample.toarray()}')\n",
    "#print('\\nArticles:', vector2.shape[0], ', Extracted Features:', vector2.shape[1])"
   ]
  },
  {
   "cell_type": "markdown",
   "metadata": {},
   "source": [
    "Plot Data Top 50"
   ]
  },
  {
   "cell_type": "code",
<<<<<<< HEAD
   "execution_count": 4,
=======
   "execution_count": 5,
>>>>>>> 78e8d6cb5223193048476b22bce0ecf8058ae9f1
   "metadata": {},
   "outputs": [
    {
     "data": {
      "image/png": "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",
      "text/plain": [
       "<Figure size 720x720 with 1 Axes>"
      ]
     },
     "metadata": {
      "needs_background": "light"
     },
     "output_type": "display_data"
    }
   ],
   "source": [
    "#find top 50 terms\n",
    "\n",
    "totals = []\n",
    "for column in v1_df:\n",
    "    totals.append(v1_df[column].sum())\n",
    "\n",
    "feature_totals = pd.DataFrame(data=zip(v1_names, totals), columns=['Terms', 'Total'])\n",
    "top_50_features = feature_totals.sort_values(by='Total', ascending=False)\n",
    "top_50_features = top_50_features.head(50)\n",
    "\n",
    "#plot top 50 distribution\n",
    "x = top_50_features['Terms']\n",
    "y = top_50_features['Total']\n",
    "plt.figure(figsize=(10, 10))\n",
    "plt.bar(x, y)\n",
    "plt.xticks(rotation = 45)\n",
    "plt.title('Top 50 Term Frequency Distribution Across Entire Dataset')\n",
    "plt.show()"
   ]
  },
  {
   "cell_type": "markdown",
   "metadata": {},
   "source": [
    "Extract Data by Article Category"
   ]
  },
  {
   "cell_type": "code",
<<<<<<< HEAD
   "execution_count": 5,
=======
   "execution_count": 6,
>>>>>>> 78e8d6cb5223193048476b22bce0ecf8058ae9f1
   "metadata": {},
   "outputs": [
    {
     "name": "stdout",
     "output_type": "stream",
     "text": [
      "Technology:\n",
      "       Terms  Total\n",
      "6995    said    892\n",
      "5860  people    507\n",
      "5417     new    304\n",
      "5211  mobile    290\n",
      "5301      mr    288\n",
      "\n",
      "Entertainment:\n",
      "      Terms  Total\n",
      "6622   said    465\n",
      "3110   film    420\n",
      "1035   best    324\n",
      "8423   year    241\n",
      "5107  music    210\n"
     ]
    }
   ],
   "source": [
    "#split dataframe based on class\n",
    "tech_df = df[df.Category == 'tech']\n",
    "entertainment_df = df[df.Category == 'entertainment']\n",
    "\n",
    "#same methods as question (a)\n",
    "tech_text = tech_df[\"Text\"].to_numpy()\n",
    "entertainment_text = entertainment_df[\"Text\"].to_numpy()\n",
    "\n",
    "vectorizer_tech = CountVectorizer()\n",
    "vectorizer_tech.fit(tech_text)\n",
    "vectorizer_entertainment = CountVectorizer()\n",
    "vectorizer_entertainment.fit(entertainment_text)\n",
    "\n",
    "vector_tech = vectorizer_tech.transform(tech_text)\n",
    "vector_tech = vector_tech.toarray()\n",
    "tech_names = vectorizer_tech.get_feature_names_out()\n",
    "vector_entertainment = vectorizer_entertainment.transform(entertainment_text)\n",
    "vector_entertainment = vector_entertainment.toarray()\n",
    "entertainment_names = vectorizer_entertainment.get_feature_names_out()\n",
    "\n",
    "vector_tech_df = pd.DataFrame(data=vector_tech, columns = tech_names)\n",
    "vector_entertainment_df = pd.DataFrame(data=vector_entertainment, columns = entertainment_names)\n",
    "\n",
    "#find term frequency for tech articles\n",
    "totals = []\n",
    "for column in vector_tech_df:\n",
    "    totals.append(vector_tech_df[column].sum())\n",
    "\n",
    "tech_totals = pd.DataFrame(data=zip(tech_names, totals), columns=['Terms', 'Total'])\n",
    "tech_totals = tech_totals.sort_values(by='Total', ascending=False)\n",
    "print(\"Technology:\")\n",
    "print(tech_totals.head())\n",
    "\n",
    "#find term frequency for entertainment articles\n",
    "totals = []\n",
    "for column in vector_entertainment_df:\n",
    "    totals.append(vector_entertainment_df[column].sum())\n",
    "\n",
    "entertainment_totals = pd.DataFrame(data=zip(entertainment_names, totals), columns=['Terms', 'Total'])\n",
    "entertainment_totals = entertainment_totals.sort_values(by='Total', ascending=False)\n",
    "print(\"\\nEntertainment:\")\n",
    "print(entertainment_totals.head())\n"
   ]
  },
  {
   "cell_type": "markdown",
   "metadata": {},
   "source": [
<<<<<<< HEAD
=======
    "Plot Technology Articles Frequency"
   ]
  },
  {
   "cell_type": "code",
   "execution_count": 7,
   "metadata": {},
   "outputs": [
    {
     "data": {
      "image/png": "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",
      "text/plain": [
       "<Figure size 864x432 with 1 Axes>"
      ]
     },
     "metadata": {
      "needs_background": "light"
     },
     "output_type": "display_data"
    }
   ],
   "source": [
    "x = tech_totals['Terms']\n",
    "y = tech_totals['Total']\n",
    "plt.figure(figsize=(12, 6))\n",
    "plt.bar(x, y)\n",
    "plt.xticks(rotation = 45)\n",
    "plt.title('Term Frequency Distribution Across Technology Articles')\n",
    "plt.show()"
   ]
  },
  {
   "cell_type": "markdown",
   "metadata": {},
   "source": [
>>>>>>> 78e8d6cb5223193048476b22bce0ecf8058ae9f1
    "Technology Articles Top 50"
   ]
  },
  {
   "cell_type": "code",
<<<<<<< HEAD
   "execution_count": 6,
=======
   "execution_count": 8,
>>>>>>> 78e8d6cb5223193048476b22bce0ecf8058ae9f1
   "metadata": {},
   "outputs": [
    {
     "data": {
      "image/png": "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",
      "text/plain": [
       "<Figure size 864x432 with 1 Axes>"
      ]
     },
     "metadata": {
      "needs_background": "light"
     },
     "output_type": "display_data"
    }
   ],
   "source": [
    "tech_top_50 = tech_totals.head(50)\n",
    "x = tech_top_50['Terms']\n",
    "y = tech_top_50['Total']\n",
    "plt.figure(figsize=(12, 6))\n",
    "plt.bar(x, y)\n",
    "plt.xticks(rotation = 45)\n",
    "plt.title('Top 50 Term Frequency Distribution Across Technology Articles')\n",
    "plt.show()"
   ]
  },
  {
   "cell_type": "markdown",
   "metadata": {},
   "source": [
<<<<<<< HEAD
=======
    "Plot Entertainment Articles Frequency"
   ]
  },
  {
   "cell_type": "code",
   "execution_count": 9,
   "metadata": {},
   "outputs": [
    {
     "data": {
      "image/png": "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",
      "text/plain": [
       "<Figure size 864x432 with 1 Axes>"
      ]
     },
     "metadata": {
      "needs_background": "light"
     },
     "output_type": "display_data"
    }
   ],
   "source": [
    "x = entertainment_totals['Terms']\n",
    "y = entertainment_totals['Total']\n",
    "plt.figure(figsize=(12, 6))\n",
    "plt.bar(x, y)\n",
    "plt.xticks(rotation = 45)\n",
    "plt.title('Term Frequency Distribution Across Entertainment Articles')\n",
    "plt.show()"
   ]
  },
  {
   "cell_type": "markdown",
   "metadata": {},
   "source": [
>>>>>>> 78e8d6cb5223193048476b22bce0ecf8058ae9f1
    "Entertainment Articles Top 50"
   ]
  },
  {
   "cell_type": "code",
<<<<<<< HEAD
   "execution_count": 7,
=======
   "execution_count": 10,
>>>>>>> 78e8d6cb5223193048476b22bce0ecf8058ae9f1
   "metadata": {},
   "outputs": [
    {
     "data": {
      "image/png": "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",
      "text/plain": [
       "<Figure size 864x432 with 1 Axes>"
      ]
     },
     "metadata": {
      "needs_background": "light"
     },
     "output_type": "display_data"
    }
   ],
   "source": [
    "entertainment_top_50 = entertainment_totals.head(50)\n",
    "\n",
    "x = entertainment_top_50['Terms']\n",
    "y = entertainment_top_50['Total']\n",
    "plt.figure(figsize=(12, 6))\n",
    "plt.bar(x, y)\n",
    "plt.xticks(rotation = 45)\n",
    "plt.title('Top 50 Term Frequency Distribution Across Technology Articles')\n",
    "plt.show()"
   ]
  },
  {
   "cell_type": "code",
<<<<<<< HEAD
   "execution_count": 20,
=======
   "execution_count": 11,
>>>>>>> 78e8d6cb5223193048476b22bce0ecf8058ae9f1
   "metadata": {},
   "outputs": [
    {
     "data": {
      "image/png": "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",
      "text/plain": [
       "<Figure size 1080x432 with 1 Axes>"
      ]
     },
     "metadata": {
      "needs_background": "light"
     },
     "output_type": "display_data"
    }
   ],
   "source": [
    "#X_axis = np.arrange(len(tech_top_50)+len(entertainment_top_50))\n",
    "\n",
    "top_50_comp = tech_top_50\n",
    "top_50_comp = top_50_comp.reindex(columns = top_50_comp.columns.to_list() + ['Ent'])\n",
    "top_50_comp.columns = ['Term', 'Tech', 'Ent']\n",
    "\n",
    "for index, row in entertainment_top_50.iterrows():\n",
    "    if row[0] in top_50_comp.values:\n",
    "        top_50_comp.loc[top_50_comp.Term == row[0], 'Ent'] = row[1]\n",
    "    else:\n",
    "        top_50_comp.loc[top_50_comp.shape[0]] = [row[0], 0, row[1]]\n",
    "top_50_comp['Ent'] = top_50_comp['Ent'].fillna(0)\n",
    "\n",
    "top_50_comp.plot(x='Term', y=['Tech', 'Ent'], kind='bar', figsize=(15,6))\n",
    "plt.title('Top 50 (from each class) Term Frequency Distribution Comparison')\n",
    "plt.show()\n"
   ]
  },
  {
   "cell_type": "markdown",
   "metadata": {},
   "source": [
    "## Task 2: Classification Models Learning"
   ]
  },
  {
   "cell_type": "markdown",
   "metadata": {},
   "source": [
    "### Logistic Regression\n",
    "###### Train your logistic regression classifier with L2-regularization. Consider different values of the regularization term λ. Describe the effect of the regularization parameter λ on the outcome in terms of bias and variance. Report the plot generated for specific λ values with training loss on the y-axis versus λ on the x-axis to support your claim."
   ]
  },
  {
   "cell_type": "code",
   "execution_count": 12,
   "metadata": {},
   "outputs": [
    {
     "name": "stdout",
     "output_type": "stream",
     "text": [
      "\n",
      " Logistic Regression Predictions\n",
      "        Prediction\n",
      "0    entertainment\n",
      "1             tech\n",
      "2             tech\n",
      "3    entertainment\n",
      "4    entertainment\n",
      "..             ...\n",
      "101  entertainment\n",
      "102  entertainment\n",
      "103  entertainment\n",
      "104           tech\n",
      "105           tech\n",
      "\n",
      "[106 rows x 1 columns]\n",
      "\n",
      " Logistic Regression Prediction Probabilities\n",
      "     Entertainment      Tech\n",
      "0         0.658963  0.341037\n",
      "1         0.112167  0.887833\n",
      "2         0.154608  0.845392\n",
      "3         0.941835  0.058165\n",
      "4         0.943972  0.056028\n",
      "..             ...       ...\n",
      "101       0.597341  0.402659\n",
      "102       0.792064  0.207936\n",
      "103       0.816202  0.183798\n",
      "104       0.137007  0.862993\n",
      "105       0.157883  0.842117\n",
      "\n",
      "[106 rows x 2 columns]\n",
      "\n",
      " Logistic Regression Accuracy\n",
      "0.9905660377358491\n"
     ]
    }
   ],
   "source": [
    "# Matthew Young\n",
    "\n",
    "# Logistic Regression Classifier\n",
    "\n",
    "# Import Libraries for LR, metrics, and graph plotting\n",
    "from sklearn.linear_model import LogisticRegression\n",
    "from sklearn import metrics\n",
    "from sklearn.metrics import log_loss\n",
    "from matplotlib import pyplot as plt\n",
    "\n",
    "traindf = df\n",
    "text_transformer = TfidfVectorizer()\n",
    "X_train_text = text_transformer.fit_transform(traindf['Text'])\n",
    "X_test_text = text_transformer.transform(testdf['Text'])\n",
    "\n",
    "y = traindf['Category']  #Target Variable of Category being Tech or Entertainment\n",
    "\n",
    "## L2 Regularization LR Classifer\n",
    "logreg = LogisticRegression(penalty='l2', solver='lbfgs', C=1, multi_class='multinomial')\n",
    "logreg.fit(X_train_text, y)\n",
    "\n",
    "logreg_prediction = logreg.predict(X_test_text)\n",
    "logreg_prediction_prob = logreg.predict_proba(X_test_text)\n",
    "\n",
    "# Logistic Regression Summary\n",
    "logreg_predict_df = pd.DataFrame(data=logreg_prediction, columns=['Prediction'])\n",
    "logreg_prediction_prob_df = pd.DataFrame(data=logreg_prediction_prob, columns=['Entertainment', 'Tech'])\n",
    "logreg_score = logreg.score(X_test_text, testdf['Category'])\n",
    "\n",
    "print('\\n', \"Logistic Regression Predictions\")\n",
    "print(logreg_predict_df)\n",
    "print('\\n', \"Logistic Regression Prediction Probabilities\")\n",
    "print(logreg_prediction_prob_df)\n",
    "print('\\n', \"Logistic Regression Accuracy\")\n",
    "print(logreg_score)"
   ]
  },
  {
   "cell_type": "code",
   "execution_count": 17,
   "metadata": {},
   "outputs": [
    {
     "data": {
      "image/png": "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",
      "text/plain": [
       "<Figure size 432x288 with 1 Axes>"
      ]
     },
     "metadata": {
      "needs_background": "light"
     },
     "output_type": "display_data"
    }
   ],
   "source": [
    "# LR Plot\n",
    "# X-Axis: Lambda\n",
    "# Y-Axis: Training/Log Loss\n",
    "\n",
    "lambda_values = [0.00000001, 0.0000001, 0.000001, 0.00001, 0.0001, 0.001, 0.01, 0.1, 1]\n",
    "training_loss = []\n",
    "for _lambda in lambda_values:\n",
    "    logreg = LogisticRegression(penalty='l2', solver='lbfgs', C=_lambda, multi_class='multinomial')\n",
    "    logreg.fit(X_train_text, y)\n",
    "    training_loss.append(log_loss(y, logreg.predict_proba(X_train_text)))\n",
    "\n",
    "plt.plot(lambda_values, training_loss)\n",
    "plt.xlabel('λ Values')\n",
    "plt.ylabel('Training Loss')\n",
    "plt.show()\n"
   ]
  },
  {
   "cell_type": "markdown",
   "metadata": {},
   "source": [
    "Regularization is the technique used to reduce error by fitting a function appropriately on the given training set and avoid under/overfitting.\n",
    "\n",
    "The effect of the regularization parameter λ on the outcome in terms of bias and variance is that as the lambda parameter increases, training error increases. Regularization forces parameters to be close to 0 which causes the variance to decrease, but as we are allowing less flexibility, the model moves away from the true values, thus increasing bias.\n",
    "\n",
    "The plot shows the inverse of this as the C parameter in the LogisticRegression class is the inverse of regularization"
   ]
  },
  {
   "cell_type": "markdown",
   "metadata": {},
   "source": [
    "### Naive Bayes\n",
    "###### Train a Naive Bayes classifier using all articles features. Report the (i) top-20 most identifiable words that are most likely to occur in the articles over two classes using your NB classifier, and (ii) the top-20 words that maximize the following quantity 𝑃(𝑋𝑤=1|𝑌=𝑦)/𝑃(𝑋𝑤=1|𝑌≠𝑦). Which list of words describe the two classes better? Briefly explain your reasoning. - She's going to change some stuff and make an announcement\n"
   ]
  },
  {
   "cell_type": "code",
   "execution_count": 13,
   "metadata": {},
   "outputs": [
    {
     "name": "stdout",
     "output_type": "stream",
     "text": [
      "0.9953271028037384\n"
     ]
    },
    {
     "data": {
      "text/html": [
       "<div>\n",
       "<style scoped>\n",
       "    .dataframe tbody tr th:only-of-type {\n",
       "        vertical-align: middle;\n",
       "    }\n",
       "\n",
       "    .dataframe tbody tr th {\n",
       "        vertical-align: top;\n",
       "    }\n",
       "\n",
       "    .dataframe thead th {\n",
       "        text-align: right;\n",
       "    }\n",
       "</style>\n",
       "<table border=\"1\" class=\"dataframe\">\n",
       "  <thead>\n",
       "    <tr style=\"text-align: right;\">\n",
       "      <th></th>\n",
       "      <th>00</th>\n",
       "      <th>000</th>\n",
       "      <th>000th</th>\n",
       "      <th>001st</th>\n",
       "      <th>0051</th>\n",
       "      <th>007</th>\n",
       "      <th>0100</th>\n",
       "      <th>0130</th>\n",
       "      <th>028</th>\n",
       "      <th>05</th>\n",
       "      <th>...</th>\n",
       "      <th>zola</th>\n",
       "      <th>zombie</th>\n",
       "      <th>zombies</th>\n",
       "      <th>zone</th>\n",
       "      <th>zonealarm</th>\n",
       "      <th>zones</th>\n",
       "      <th>zoom</th>\n",
       "      <th>zooms</th>\n",
       "      <th>zooropa</th>\n",
       "      <th>zorro</th>\n",
       "    </tr>\n",
       "  </thead>\n",
       "  <tbody>\n",
       "    <tr>\n",
       "      <th>0</th>\n",
       "      <td>0</td>\n",
       "      <td>1</td>\n",
       "      <td>0</td>\n",
       "      <td>0</td>\n",
       "      <td>0</td>\n",
       "      <td>0</td>\n",
       "      <td>0</td>\n",
       "      <td>0</td>\n",
       "      <td>0</td>\n",
       "      <td>0</td>\n",
       "      <td>...</td>\n",
       "      <td>0</td>\n",
       "      <td>0</td>\n",
       "      <td>0</td>\n",
       "      <td>0</td>\n",
       "      <td>0</td>\n",
       "      <td>0</td>\n",
       "      <td>0</td>\n",
       "      <td>0</td>\n",
       "      <td>0</td>\n",
       "      <td>0</td>\n",
       "    </tr>\n",
       "    <tr>\n",
       "      <th>1</th>\n",
       "      <td>0</td>\n",
       "      <td>0</td>\n",
       "      <td>0</td>\n",
       "      <td>0</td>\n",
       "      <td>0</td>\n",
       "      <td>0</td>\n",
       "      <td>0</td>\n",
       "      <td>0</td>\n",
       "      <td>0</td>\n",
       "      <td>0</td>\n",
       "      <td>...</td>\n",
       "      <td>0</td>\n",
       "      <td>0</td>\n",
       "      <td>0</td>\n",
       "      <td>0</td>\n",
       "      <td>0</td>\n",
       "      <td>0</td>\n",
       "      <td>0</td>\n",
       "      <td>0</td>\n",
       "      <td>0</td>\n",
       "      <td>0</td>\n",
       "    </tr>\n",
       "    <tr>\n",
       "      <th>2</th>\n",
       "      <td>0</td>\n",
       "      <td>0</td>\n",
       "      <td>0</td>\n",
       "      <td>0</td>\n",
       "      <td>0</td>\n",
       "      <td>0</td>\n",
       "      <td>0</td>\n",
       "      <td>0</td>\n",
       "      <td>0</td>\n",
       "      <td>0</td>\n",
       "      <td>...</td>\n",
       "      <td>0</td>\n",
       "      <td>0</td>\n",
       "      <td>0</td>\n",
       "      <td>0</td>\n",
       "      <td>0</td>\n",
       "      <td>0</td>\n",
       "      <td>0</td>\n",
       "      <td>0</td>\n",
       "      <td>0</td>\n",
       "      <td>0</td>\n",
       "    </tr>\n",
       "    <tr>\n",
       "      <th>3</th>\n",
       "      <td>0</td>\n",
       "      <td>0</td>\n",
       "      <td>0</td>\n",
       "      <td>0</td>\n",
       "      <td>0</td>\n",
       "      <td>0</td>\n",
       "      <td>0</td>\n",
       "      <td>0</td>\n",
       "      <td>0</td>\n",
       "      <td>0</td>\n",
       "      <td>...</td>\n",
       "      <td>0</td>\n",
       "      <td>0</td>\n",
       "      <td>0</td>\n",
       "      <td>0</td>\n",
       "      <td>0</td>\n",
       "      <td>0</td>\n",
       "      <td>0</td>\n",
       "      <td>0</td>\n",
       "      <td>0</td>\n",
       "      <td>0</td>\n",
       "    </tr>\n",
       "    <tr>\n",
       "      <th>4</th>\n",
       "      <td>0</td>\n",
       "      <td>0</td>\n",
       "      <td>0</td>\n",
       "      <td>0</td>\n",
       "      <td>0</td>\n",
       "      <td>0</td>\n",
       "      <td>0</td>\n",
       "      <td>0</td>\n",
       "      <td>0</td>\n",
       "      <td>0</td>\n",
       "      <td>...</td>\n",
       "      <td>0</td>\n",
       "      <td>0</td>\n",
       "      <td>0</td>\n",
       "      <td>0</td>\n",
       "      <td>0</td>\n",
       "      <td>0</td>\n",
       "      <td>0</td>\n",
       "      <td>0</td>\n",
       "      <td>1</td>\n",
       "      <td>0</td>\n",
       "    </tr>\n",
       "    <tr>\n",
       "      <th>...</th>\n",
       "      <td>...</td>\n",
       "      <td>...</td>\n",
       "      <td>...</td>\n",
       "      <td>...</td>\n",
       "      <td>...</td>\n",
       "      <td>...</td>\n",
       "      <td>...</td>\n",
       "      <td>...</td>\n",
       "      <td>...</td>\n",
       "      <td>...</td>\n",
       "      <td>...</td>\n",
       "      <td>...</td>\n",
       "      <td>...</td>\n",
       "      <td>...</td>\n",
       "      <td>...</td>\n",
       "      <td>...</td>\n",
       "      <td>...</td>\n",
       "      <td>...</td>\n",
       "      <td>...</td>\n",
       "      <td>...</td>\n",
       "      <td>...</td>\n",
       "    </tr>\n",
       "    <tr>\n",
       "      <th>423</th>\n",
       "      <td>0</td>\n",
       "      <td>3</td>\n",
       "      <td>0</td>\n",
       "      <td>0</td>\n",
       "      <td>0</td>\n",
       "      <td>0</td>\n",
       "      <td>0</td>\n",
       "      <td>0</td>\n",
       "      <td>0</td>\n",
       "      <td>0</td>\n",
       "      <td>...</td>\n",
       "      <td>0</td>\n",
       "      <td>0</td>\n",
       "      <td>0</td>\n",
       "      <td>0</td>\n",
       "      <td>0</td>\n",
       "      <td>0</td>\n",
       "      <td>0</td>\n",
       "      <td>0</td>\n",
       "      <td>0</td>\n",
       "      <td>0</td>\n",
       "    </tr>\n",
       "    <tr>\n",
       "      <th>424</th>\n",
       "      <td>0</td>\n",
       "      <td>0</td>\n",
       "      <td>0</td>\n",
       "      <td>0</td>\n",
       "      <td>0</td>\n",
       "      <td>0</td>\n",
       "      <td>0</td>\n",
       "      <td>0</td>\n",
       "      <td>0</td>\n",
       "      <td>0</td>\n",
       "      <td>...</td>\n",
       "      <td>0</td>\n",
       "      <td>0</td>\n",
       "      <td>0</td>\n",
       "      <td>0</td>\n",
       "      <td>0</td>\n",
       "      <td>0</td>\n",
       "      <td>0</td>\n",
       "      <td>0</td>\n",
       "      <td>0</td>\n",
       "      <td>0</td>\n",
       "    </tr>\n",
       "    <tr>\n",
       "      <th>425</th>\n",
       "      <td>0</td>\n",
       "      <td>0</td>\n",
       "      <td>0</td>\n",
       "      <td>0</td>\n",
       "      <td>0</td>\n",
       "      <td>0</td>\n",
       "      <td>0</td>\n",
       "      <td>0</td>\n",
       "      <td>0</td>\n",
       "      <td>0</td>\n",
       "      <td>...</td>\n",
       "      <td>0</td>\n",
       "      <td>0</td>\n",
       "      <td>0</td>\n",
       "      <td>0</td>\n",
       "      <td>0</td>\n",
       "      <td>0</td>\n",
       "      <td>0</td>\n",
       "      <td>0</td>\n",
       "      <td>0</td>\n",
       "      <td>0</td>\n",
       "    </tr>\n",
       "    <tr>\n",
       "      <th>426</th>\n",
       "      <td>0</td>\n",
       "      <td>0</td>\n",
       "      <td>0</td>\n",
       "      <td>0</td>\n",
       "      <td>0</td>\n",
       "      <td>0</td>\n",
       "      <td>0</td>\n",
       "      <td>0</td>\n",
       "      <td>0</td>\n",
       "      <td>0</td>\n",
       "      <td>...</td>\n",
       "      <td>0</td>\n",
       "      <td>0</td>\n",
       "      <td>0</td>\n",
       "      <td>0</td>\n",
       "      <td>0</td>\n",
       "      <td>0</td>\n",
       "      <td>0</td>\n",
       "      <td>0</td>\n",
       "      <td>0</td>\n",
       "      <td>0</td>\n",
       "    </tr>\n",
       "    <tr>\n",
       "      <th>427</th>\n",
       "      <td>0</td>\n",
       "      <td>0</td>\n",
       "      <td>0</td>\n",
       "      <td>0</td>\n",
       "      <td>0</td>\n",
       "      <td>0</td>\n",
       "      <td>0</td>\n",
       "      <td>0</td>\n",
       "      <td>0</td>\n",
       "      <td>0</td>\n",
       "      <td>...</td>\n",
       "      <td>0</td>\n",
       "      <td>0</td>\n",
       "      <td>0</td>\n",
       "      <td>0</td>\n",
       "      <td>0</td>\n",
       "      <td>0</td>\n",
       "      <td>0</td>\n",
       "      <td>0</td>\n",
       "      <td>0</td>\n",
       "      <td>0</td>\n",
       "    </tr>\n",
       "  </tbody>\n",
       "</table>\n",
       "<p>428 rows × 13518 columns</p>\n",
       "</div>"
      ],
      "text/plain": [
       "     00  000  000th  001st  0051  007  0100  0130  028  05  ...  zola  zombie  \\\n",
       "0     0    1      0      0     0    0     0     0    0   0  ...     0       0   \n",
       "1     0    0      0      0     0    0     0     0    0   0  ...     0       0   \n",
       "2     0    0      0      0     0    0     0     0    0   0  ...     0       0   \n",
       "3     0    0      0      0     0    0     0     0    0   0  ...     0       0   \n",
       "4     0    0      0      0     0    0     0     0    0   0  ...     0       0   \n",
       "..   ..  ...    ...    ...   ...  ...   ...   ...  ...  ..  ...   ...     ...   \n",
       "423   0    3      0      0     0    0     0     0    0   0  ...     0       0   \n",
       "424   0    0      0      0     0    0     0     0    0   0  ...     0       0   \n",
       "425   0    0      0      0     0    0     0     0    0   0  ...     0       0   \n",
       "426   0    0      0      0     0    0     0     0    0   0  ...     0       0   \n",
       "427   0    0      0      0     0    0     0     0    0   0  ...     0       0   \n",
       "\n",
       "     zombies  zone  zonealarm  zones  zoom  zooms  zooropa  zorro  \n",
       "0          0     0          0      0     0      0        0      0  \n",
       "1          0     0          0      0     0      0        0      0  \n",
       "2          0     0          0      0     0      0        0      0  \n",
       "3          0     0          0      0     0      0        0      0  \n",
       "4          0     0          0      0     0      0        1      0  \n",
       "..       ...   ...        ...    ...   ...    ...      ...    ...  \n",
       "423        0     0          0      0     0      0        0      0  \n",
       "424        0     0          0      0     0      0        0      0  \n",
       "425        0     0          0      0     0      0        0      0  \n",
       "426        0     0          0      0     0      0        0      0  \n",
       "427        0     0          0      0     0      0        0      0  \n",
       "\n",
       "[428 rows x 13518 columns]"
      ]
     },
     "execution_count": 13,
     "metadata": {},
     "output_type": "execute_result"
    }
   ],
   "source": [
    "# Emily\n",
    "\n",
    "from sklearn.naive_bayes import MultinomialNB\n",
    "from sklearn import metrics\n",
    "\n",
    "# X_train is vectorised features, Y_train is the classes of each row / target variable\n",
    "X_train = vector1\n",
    "target_col = df[\"Category\"]\n",
    "Y_train = target_col.to_numpy()\n",
    "\n",
    "NB_clf = MultinomialNB()\n",
    "NB_clf.fit(X_train, Y_train)\n",
    "\n",
    "# Training accuracy\n",
    "train_acc = NB_clf.score(X_train, Y_train)\n",
    "\n",
    "print(train_acc)\n",
    "\n",
    "# Testing accuracy\n",
    "#Y_pred = NB_clf.predict(X_test)\n",
    "#print(\"Test Accuracy:\",metrics.accuracy_score(Y_Test, Y_pred))\n",
    "\n",
    "####EMILY HERE IS YOUR DATAFRAME#####\n",
    "v1_df_emily"
   ]
  },
  {
   "cell_type": "markdown",
   "metadata": {},
   "source": [
    "#### (i)"
   ]
  },
  {
   "cell_type": "code",
   "execution_count": 14,
   "metadata": {},
   "outputs": [
    {
     "name": "stdout",
     "output_type": "stream",
     "text": [
      "Top 20 Tech:\n",
      "said          892\n",
      "people        507\n",
      "new           304\n",
      "mobile        290\n",
      "mr            288\n",
      "one           286\n",
      "also          273\n",
      "would         267\n",
      "could         255\n",
      "technology    247\n",
      "use           228\n",
      "users         214\n",
      "net           214\n",
      "software      213\n",
      "games         212\n",
      "us            210\n",
      "music         203\n",
      "many          202\n",
      "year          201\n",
      "phone         196\n",
      "dtype: int64\n",
      "Top 20 Entertainment:\n",
      "said      465\n",
      "film      420\n",
      "best      324\n",
      "year      241\n",
      "music     210\n",
      "also      206\n",
      "us        201\n",
      "new       196\n",
      "one       193\n",
      "show      180\n",
      "first     155\n",
      "awards    137\n",
      "tv        130\n",
      "last      127\n",
      "uk        127\n",
      "actor     126\n",
      "number    124\n",
      "band      123\n",
      "mr        120\n",
      "star      118\n",
      "dtype: int64\n"
     ]
    }
   ],
   "source": [
    "# Df for grouping - vectorsied df with target df \n",
    "count_df = pd.concat([v1_df_emily,target_col], axis=1)\n",
    "\n",
    "# Grouped data by category\n",
    "grouped = count_df.groupby(count_df.Category)\n",
    "\n",
    "# Split data into df of each category\n",
    "# dropped category column for sum\n",
    "tech_df = grouped.get_group(\"tech\")\n",
    "tech_df = tech_df.drop(\"Category\", axis=1)\n",
    "\n",
    "ent_df = grouped.get_group(\"entertainment\")\n",
    "ent_df = ent_df.drop(\"Category\", axis=1)\n",
    "\n",
    "# Summed each colum in each df\n",
    "sum_tech_series = tech_df.sum()\n",
    "sum_ent_series = ent_df.sum()\n",
    "\n",
    "# Sorting each series to get top 20\n",
    "sorted_tech = sum_tech_series.sort_values(ascending = False)\n",
    "top_20_tech = sorted_tech[:20]\n",
    "print(\"Top 20 Tech:\")\n",
    "print(top_20_tech)\n",
    "\n",
    "sorted_ent = sum_ent_series.sort_values(ascending = False)\n",
    "top_20_ent = sorted_ent[:20]\n",
    "print(\"Top 20 Entertainment:\")\n",
    "print(top_20_ent)"
   ]
  },
  {
   "cell_type": "markdown",
   "metadata": {},
   "source": [
    "#### (ii)"
   ]
  },
  {
   "cell_type": "code",
   "execution_count": 15,
   "metadata": {},
   "outputs": [
    {
     "name": "stdout",
     "output_type": "stream",
     "text": [
      "Top 20 Tech:\n",
      "users         107.500000\n",
      "software      107.000000\n",
      "mobile         97.000000\n",
      "microsoft      77.500000\n",
      "broadband      64.500000\n",
      "virus          61.500000\n",
      "firms          57.000000\n",
      "pc             54.500000\n",
      "net            53.750000\n",
      "technology     49.600000\n",
      "phones         48.333333\n",
      "spam           42.500000\n",
      "gadget         36.000000\n",
      "games          35.500000\n",
      "consumer       34.500000\n",
      "mobiles        34.000000\n",
      "gadgets        33.500000\n",
      "windows        33.500000\n",
      "machines       33.500000\n",
      "phone          32.833333\n",
      "dtype: float64\n",
      "Top 20 Entertainment:\n",
      "actress        45.500000\n",
      "singer         45.000000\n",
      "oscar          44.000000\n",
      "band           41.333333\n",
      "stars          38.000000\n",
      "album          33.000000\n",
      "aviator        31.500000\n",
      "chart          30.000000\n",
      "nominated      27.500000\n",
      "rock           26.500000\n",
      "festival       26.500000\n",
      "actor          25.400000\n",
      "nominations    24.000000\n",
      "charles        23.500000\n",
      "foxx           22.000000\n",
      "comedy         21.666667\n",
      "oscars         21.500000\n",
      "starring       21.000000\n",
      "singles        19.000000\n",
      "musical        18.250000\n",
      "dtype: float64\n"
     ]
    }
   ],
   "source": [
    "# Will break since some words are in an article multiple times (prob can't be more than one)\n",
    "#total_tech = tech_df.shape[0]\n",
    "#prob_word_given_tech = sum_tech_series / total_tech\n",
    "#total_ent = ent_df.shape[0]\n",
    "#prob_word_given_ent = sum_ent_series / total_ent\n",
    "\n",
    "# word in tech / word not in tech - with smoothing\n",
    "tech_series = (sum_tech_series + 1) / (sum_ent_series + 2)\n",
    "\n",
    "# word in entertainment / word not in entertainment - with smoothing\n",
    "ent_series = (sum_ent_series + 1) / (sum_tech_series + 2)\n",
    "\n",
    "# Sorting each series to get top 20\n",
    "sorted_tech2 = tech_series.sort_values(ascending = False)\n",
    "top_20_tech2 = sorted_tech2[:20]\n",
    "print(\"Top 20 Tech:\")\n",
    "print(top_20_tech2)\n",
    "\n",
    "sorted_ent2 = ent_series.sort_values(ascending = False)\n",
    "top_20_ent2 = sorted_ent2[:20]\n",
    "print(\"Top 20 Entertainment:\")\n",
    "print(top_20_ent2)"
   ]
  },
  {
   "cell_type": "markdown",
   "metadata": {},
   "source": [
    "Difference - there is a difference just by looking at them, the top20 words from (ii) look to be more relevent than the top20 words from (i). So (ii) seems to be the better formula."
   ]
  },
  {
   "cell_type": "markdown",
   "metadata": {},
   "source": [
    "### Soft Value Margin (SVM)\n",
    "###### Train your SVM classification models on the training dataset. You need to report two surface plots for: (i) the soft-margin linear SVM with your choice of misclassification penalty (𝐶), and (ii) the hard-margin RBF kernel with your choice of kernel width (σ). Explain the impact of penalty 𝐶 on the soft-margin decision boundaries, as well as the kernel hyperparameter on the hard-margin decision boundaries."
   ]
  },
  {
   "cell_type": "code",
   "execution_count": 16,
   "metadata": {},
   "outputs": [],
   "source": [
    "# Humza"
   ]
  },
  {
   "cell_type": "markdown",
   "metadata": {},
   "source": [
    "### Nearest Neighbor\n",
    "###### Consider the neural network with the following hyperparameters: the initial weights uniformly drawn in range [0,0.1] with learning rate 0.01.\n",
    "######  ● Train a single hidden layer neural network using the hyperparameters on the training dataset, except for the number of hidden units (x) which should vary among 5, 20, and 40. Run the optimization for 100 epochs each time. Namely, the input layer consists of n features x = [x1, ..., xn]T , the hidden layer has x nodes z = [z1, ..., zx]T , and the output layer is a probability distribution y = [y1, y2]T over two classes.\n",
    "######  ● Plot the average training cross-entropy loss as shown below on the y-axis versus the number of hidden units on the x-axis. Explain the effect of numbers of hidden units. 𝐶𝑟𝑜𝑠𝑠𝐸𝑛𝑡𝑟𝑜𝑝𝑦𝐿𝑜𝑠𝑠 =− 𝑖=1 2 Σ 𝑦𝑖 log(𝑦𝑖 ^ )"
   ]
  },
  {
   "cell_type": "code",
   "execution_count": null,
   "metadata": {},
   "outputs": [],
   "source": []
  }
 ],
 "metadata": {
  "interpreter": {
   "hash": "8471e12cab07c52a942a04ee5723bc328a80c174fa96b210ede9dde21e6dc81a"
  },
  "kernelspec": {
   "display_name": "Python 3.10.2 64-bit",
   "language": "python",
   "name": "python3"
  },
  "language_info": {
   "codemirror_mode": {
    "name": "ipython",
    "version": 3
   },
   "file_extension": ".py",
   "mimetype": "text/x-python",
   "name": "python",
   "nbconvert_exporter": "python",
   "pygments_lexer": "ipython3",
<<<<<<< HEAD
   "version": "3.9.7"
=======
   "version": "3.10.2"
>>>>>>> 78e8d6cb5223193048476b22bce0ecf8058ae9f1
  },
  "orig_nbformat": 4
 },
 "nbformat": 4,
 "nbformat_minor": 2
}
