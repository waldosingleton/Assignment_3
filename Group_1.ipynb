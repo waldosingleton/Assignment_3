{
 "cells": [
  {
   "cell_type": "markdown",
   "metadata": {},
   "source": [
    "# BBC News Articles"
   ]
  },
  {
   "cell_type": "markdown",
   "metadata": {},
   "source": [
    "## Task 1: Exploratory Data Analytics\n",
    "###### (a) Load the dataset and construct a feature vector for each article in the entire dataset. You need to report the number of articles, and the number of extracted features. Show 5 example articles with their extracted features using a dataframe.\n",
    "###### (b) Conduct term frequency analysis and report three plots: (i) top-50 term frequency distribution across the entire dataset, (ii) term frequency distribution for respective class of articles, and (iii) class distribution."
   ]
  },
  {
   "cell_type": "markdown",
   "metadata": {},
   "source": [
    "Setup"
   ]
  },
  {
   "cell_type": "code",
   "execution_count": 2,
   "metadata": {},
   "outputs": [],
   "source": [
    "import pandas as pd\n",
    "import numpy as np\n",
    "from sklearn.feature_extraction.text import TfidfVectorizer\n",
    "from sklearn.feature_extraction.text import CountVectorizer\n",
    "from sklearn.feature_extraction.text import TfidfTransformer\n",
    "import random\n",
    "import matplotlib.pyplot as plt"
   ]
  },
  {
   "cell_type": "markdown",
   "metadata": {},
   "source": [
    "Import Data"
   ]
  },
  {
   "cell_type": "code",
   "execution_count": 3,
   "metadata": {},
   "outputs": [
    {
     "data": {
      "text/html": [
       "<div>\n",
       "<style scoped>\n",
       "    .dataframe tbody tr th:only-of-type {\n",
       "        vertical-align: middle;\n",
       "    }\n",
       "\n",
       "    .dataframe tbody tr th {\n",
       "        vertical-align: top;\n",
       "    }\n",
       "\n",
       "    .dataframe thead th {\n",
       "        text-align: right;\n",
       "    }\n",
       "</style>\n",
       "<table border=\"1\" class=\"dataframe\">\n",
       "  <thead>\n",
       "    <tr style=\"text-align: right;\">\n",
       "      <th></th>\n",
       "      <th>ArticleId</th>\n",
       "      <th>Text</th>\n",
       "      <th>Category</th>\n",
       "    </tr>\n",
       "  </thead>\n",
       "  <tbody>\n",
       "    <tr>\n",
       "      <th>0</th>\n",
       "      <td>1976</td>\n",
       "      <td>lifestyle governs mobile choice faster better ...</td>\n",
       "      <td>tech</td>\n",
       "    </tr>\n",
       "    <tr>\n",
       "      <th>1</th>\n",
       "      <td>1797</td>\n",
       "      <td>french honour director parker british film dir...</td>\n",
       "      <td>entertainment</td>\n",
       "    </tr>\n",
       "    <tr>\n",
       "      <th>2</th>\n",
       "      <td>1866</td>\n",
       "      <td>fockers fuel festive film chart comedy meet fo...</td>\n",
       "      <td>entertainment</td>\n",
       "    </tr>\n",
       "    <tr>\n",
       "      <th>3</th>\n",
       "      <td>1153</td>\n",
       "      <td>housewives lift channel 4 ratings debut us tel...</td>\n",
       "      <td>entertainment</td>\n",
       "    </tr>\n",
       "    <tr>\n",
       "      <th>4</th>\n",
       "      <td>342</td>\n",
       "      <td>u2 desire number one u2 three prestigious gram...</td>\n",
       "      <td>entertainment</td>\n",
       "    </tr>\n",
       "  </tbody>\n",
       "</table>\n",
       "</div>"
      ],
      "text/plain": [
       "  ArticleId                                               Text       Category\n",
       "0      1976  lifestyle governs mobile choice faster better ...           tech\n",
       "1      1797  french honour director parker british film dir...  entertainment\n",
       "2      1866  fockers fuel festive film chart comedy meet fo...  entertainment\n",
       "3      1153  housewives lift channel 4 ratings debut us tel...  entertainment\n",
       "4       342  u2 desire number one u2 three prestigious gram...  entertainment"
      ]
     },
     "execution_count": 3,
     "metadata": {},
     "output_type": "execute_result"
    }
   ],
   "source": [
    "df = pd.read_csv(\"train.csv\", skiprows=0, header=0, na_values= \"\", dtype=str)\n",
    "df.head()"
   ]
  },
  {
   "cell_type": "markdown",
   "metadata": {},
   "source": [
    "Vectorize Data"
   ]
  },
  {
   "cell_type": "code",
   "execution_count": 4,
   "metadata": {},
   "outputs": [
    {
     "name": "stdout",
     "output_type": "stream",
     "text": [
      "Method 1\n",
      "article vector\n",
      " [[0 1 0 ... 0 0 0]\n",
      " [0 0 0 ... 0 0 0]\n",
      " [0 0 0 ... 0 0 0]\n",
      " ...\n",
      " [0 0 0 ... 0 0 0]\n",
      " [0 0 0 ... 0 0 0]\n",
      " [0 0 0 ... 0 0 0]]\n",
      "\n",
      "Articles: 428 , Extracted Features: 13518\n",
      "\n",
      "article vector (5 articles)\n",
      " [[0 0 0 ... 0 0 0]\n",
      " [0 0 0 ... 0 0 0]\n",
      " [1 0 1 ... 1 0 1]\n",
      " [0 1 0 ... 0 0 0]\n",
      " [0 0 0 ... 0 1 1]]\n",
      "    Features  Article 1  Article 2  Article 3  Article 4  Article 5  Total\n",
      "0         11          0          0          1          0          0      1\n",
      "1         12          0          0          0          1          0      1\n",
      "2         15          0          0          1          0          0      1\n",
      "3      1960s          1          0          0          0          0      1\n",
      "4       1976          1          0          0          0          0      1\n",
      "..       ...        ...        ...        ...        ...        ...    ...\n",
      "868     year          0          0          3          2          1      6\n",
      "869    years          0          0          1          0          0      1\n",
      "870      yet          0          0          1          0          0      1\n",
      "871     york          0          0          0          0          1      1\n",
      "872    young          0          0          1          0          1      2\n",
      "\n",
      "[873 rows x 7 columns]\n",
      "\n",
      " Method 2\n",
      "article vector\n",
      " [[0.         0.02011467 0.         ... 0.         0.         0.        ]\n",
      " [0.         0.         0.         ... 0.         0.         0.        ]\n",
      " [0.         0.         0.         ... 0.         0.         0.        ]\n",
      " ...\n",
      " [0.         0.         0.         ... 0.         0.         0.        ]\n",
      " [0.         0.         0.         ... 0.         0.         0.        ]\n",
      " [0.         0.         0.         ... 0.         0.         0.        ]]\n",
      "\n",
      "Articles: 428 , Extracted Features: 13518\n"
     ]
    }
   ],
   "source": [
    "articles_text = df[\"Text\"].to_numpy()\n",
    "\n",
    "#select 5 random articles for task 1\n",
    "random_sample = random.sample(list(articles_text), 5)\n",
    "\n",
    "## APPROACH ONE ##\n",
    "vectorizer1 = CountVectorizer()\n",
    "vectorizer1.fit(articles_text)\n",
    "\n",
    "vectorizer1_sample = CountVectorizer()\n",
    "vectorizer1_sample.fit(random_sample)\n",
    "\n",
    "# encode document\n",
    "vector1 = vectorizer1.transform(articles_text)\n",
    "vector1 = vector1.toarray()\n",
    "v1_names = vectorizer1.get_feature_names_out()\n",
    "\n",
    "vector1_sample = vectorizer1_sample.transform(random_sample)\n",
    "vector1_sample = vector1_sample.toarray()\n",
    "v1_sample_names = vectorizer1_sample.get_feature_names_out()\n",
    "\n",
    "#map sample to feature names\n",
    "v1_sample_df = pd.DataFrame(data=zip(v1_sample_names, vector1_sample[0], vector1_sample[1], vector1_sample[2], vector1_sample[3], vector1_sample[4], sum([vector1_sample[0], vector1_sample[1], vector1_sample[2], vector1_sample[3], vector1_sample[4]])), columns=['Features', 'Article 1', 'Article 2', 'Article 3', 'Article 4', 'Article 5', 'Total'])\n",
    "\n",
    "v1_df = pd.DataFrame(data=vector1, columns = v1_names)\n",
    "\n",
    "v1_df_emily = pd.DataFrame(data=vector1, columns = v1_names)\n",
    "\n",
    "\n",
    "# summarize encoded vector\n",
    "print(\"Method 1\")\n",
    "print(f'article vector\\n {vector1}')\n",
    "print('\\nArticles:', vector1.shape[0], ', Extracted Features:', vector1.shape[1])\n",
    "print(f'\\narticle vector (5 articles)\\n {vector1_sample}')\n",
    "\n",
    "print(v1_sample_df.head(vector1_sample.shape[1]))\n",
    "\n",
    "\n",
    "## APPROACH TWO ##\n",
    "vectorizer2 = TfidfVectorizer()\n",
    "vectorizer2.fit(articles_text)\n",
    "\n",
    "#vectorizer2_sample = TfidfVectorizer()\n",
    "#vectorizer2_sample.fit(random_sample)\n",
    "\n",
    "#Summary\n",
    "#print(f'vector vocabulary - {vectorizer.vocabulary_}\\n')\n",
    "\n",
    "# encode document\n",
    "vector2 = vectorizer2.transform(articles_text)\n",
    "#vector2_sample = vectorizer2_sample.transform(random_sample)\n",
    "\n",
    "# summarize encoded vector\n",
    "print('\\n', \"Method 2\")\n",
    "print(f'article vector\\n {vector2.toarray()}')\n",
    "#print(f'\\narticle vector (5 articles)\\n {vector2_sample.toarray()}')\n",
    "print('\\nArticles:', vector2.shape[0], ', Extracted Features:', vector2.shape[1])"
   ]
  },
  {
   "cell_type": "markdown",
   "metadata": {},
   "source": [
    "Plot Data Top 50"
   ]
  },
  {
   "cell_type": "code",
   "execution_count": 5,
   "metadata": {},
   "outputs": [
    {
     "data": {
      "image/png": "[encoded data removed]",
      "text/plain": [
       "<Figure size 1080x720 with 1 Axes>"
      ]
     },
     "metadata": {
      "needs_background": "light"
     },
     "output_type": "display_data"
    }
   ],
   "source": [
    "#find top 50 terms\n",
    "\n",
    "totals = []\n",
    "for column in v1_df:\n",
    "    totals.append(v1_df[column].sum())\n",
    "\n",
    "feature_totals = pd.DataFrame(data=zip(v1_names, totals), columns=['Terms', 'Total'])\n",
    "top_50_features = feature_totals.sort_values(by='Total', ascending=False)\n",
    "top_50_features = top_50_features.head(50)\n",
    "\n",
    "#plot top 50 distribution\n",
    "x = top_50_features['Terms']\n",
    "y = top_50_features['Total']\n",
    "plt.figure(figsize=(15, 10))\n",
    "plt.bar(x, y)\n",
    "plt.xticks(rotation = 45)\n",
    "plt.title('Top 50 Term Frequency Distribution Across Entire Dataset')\n",
    "plt.show()"
   ]
  },
  {
   "cell_type": "markdown",
   "metadata": {},
   "source": [
    "Extract Data by Article Category"
   ]
  },
  {
   "cell_type": "code",
   "execution_count": 6,
   "metadata": {},
   "outputs": [
    {
     "name": "stdout",
     "output_type": "stream",
     "text": [
      "Technology:\n",
      "       Terms  Total\n",
      "6995    said    892\n",
      "5860  people    507\n",
      "5417     new    304\n",
      "5211  mobile    290\n",
      "5301      mr    288\n",
      "\n",
      "Entertainment:\n",
      "      Terms  Total\n",
      "6622   said    465\n",
      "3110   film    420\n",
      "1035   best    324\n",
      "8423   year    241\n",
      "5107  music    210\n"
     ]
    }
   ],
   "source": [
    "#split dataframe based on class\n",
    "tech_df = df[df.Category == 'tech']\n",
    "entertainment_df = df[df.Category == 'entertainment']\n",
    "\n",
    "#same methods as question (a)\n",
    "tech_text = tech_df[\"Text\"].to_numpy()\n",
    "entertainment_text = entertainment_df[\"Text\"].to_numpy()\n",
    "\n",
    "vectorizer_tech = CountVectorizer()\n",
    "vectorizer_tech.fit(tech_text)\n",
    "vectorizer_entertainment = CountVectorizer()\n",
    "vectorizer_entertainment.fit(entertainment_text)\n",
    "\n",
    "vector_tech = vectorizer_tech.transform(tech_text)\n",
    "vector_tech = vector_tech.toarray()\n",
    "tech_names = vectorizer_tech.get_feature_names_out()\n",
    "vector_entertainment = vectorizer_entertainment.transform(entertainment_text)\n",
    "vector_entertainment = vector_entertainment.toarray()\n",
    "entertainment_names = vectorizer_entertainment.get_feature_names_out()\n",
    "\n",
    "vector_tech_df = pd.DataFrame(data=vector_tech, columns = tech_names)\n",
    "vector_entertainment_df = pd.DataFrame(data=vector_entertainment, columns = entertainment_names)\n",
    "\n",
    "#find term frequency for tech articles\n",
    "totals = []\n",
    "for column in vector_tech_df:\n",
    "    totals.append(vector_tech_df[column].sum())\n",
    "\n",
    "tech_totals = pd.DataFrame(data=zip(tech_names, totals), columns=['Terms', 'Total'])\n",
    "tech_totals = tech_totals.sort_values(by='Total', ascending=False)\n",
    "print(\"Technology:\")\n",
    "print(tech_totals.head())\n",
    "\n",
    "#find term frequency for entertainment articles\n",
    "totals = []\n",
    "for column in vector_entertainment_df:\n",
    "    totals.append(vector_entertainment_df[column].sum())\n",
    "\n",
    "entertainment_totals = pd.DataFrame(data=zip(entertainment_names, totals), columns=['Terms', 'Total'])\n",
    "entertainment_totals = entertainment_totals.sort_values(by='Total', ascending=False)\n",
    "print(\"\\nEntertainment:\")\n",
    "print(entertainment_totals.head())"
   ]
  },
  {
   "cell_type": "markdown",
   "metadata": {},
   "source": [
    "Technology Articles Top 50"
   ]
  },
  {
   "cell_type": "code",
   "execution_count": 7,
   "metadata": {},
   "outputs": [
    {
     "data": {
      "image/png": "[encoded data removed]",
      "text/plain": [
       "<Figure size 1080x720 with 1 Axes>"
      ]
     },
     "metadata": {
      "needs_background": "light"
     },
     "output_type": "display_data"
    }
   ],
   "source": [
    "tech_top_50 = tech_totals.head(50)\n",
    "x = tech_top_50['Terms']\n",
    "y = tech_top_50['Total']\n",
    "plt.figure(figsize=(15, 10))\n",
    "plt.bar(x, y)\n",
    "plt.xticks(rotation = 45)\n",
    "plt.title('Top 50 Term Frequency Distribution Across Technology Articles')\n",
    "plt.show()"
   ]
  },
  {
   "cell_type": "markdown",
   "metadata": {},
   "source": [
    "Entertainment Articles Top 50"
   ]
  },
  {
   "cell_type": "code",
   "execution_count": 8,
   "metadata": {},
   "outputs": [
    {
     "data": {
      "image/png": "[encoded data removed]",
      "text/plain": [
       "<Figure size 1080x720 with 1 Axes>"
      ]
     },
     "metadata": {
      "needs_background": "light"
     },
     "output_type": "display_data"
    }
   ],
   "source": [
    "entertainment_top_50 = entertainment_totals.head(50)\n",
    "\n",
    "x = entertainment_top_50['Terms']\n",
    "y = entertainment_top_50['Total']\n",
    "plt.figure(figsize=(15, 10))\n",
    "plt.bar(x, y)\n",
    "plt.xticks(rotation = 45)\n",
    "plt.title('Top 50 Term Frequency Distribution Across Technology Articles')\n",
    "plt.show()"
   ]
  },
  {
   "cell_type": "code",
   "execution_count": 9,
   "metadata": {},
   "outputs": [
    {
     "data": {
      "image/png": "[encoded data removed]",
      "text/plain": [
       "<Figure size 1080x432 with 1 Axes>"
      ]
     },
     "metadata": {
      "needs_background": "light"
     },
     "output_type": "display_data"
    }
   ],
   "source": [
    "#X_axis = np.arrange(len(tech_top_50)+len(entertainment_top_50))\n",
    "\n",
    "top_50_comp = tech_top_50\n",
    "top_50_comp = top_50_comp.reindex(columns = top_50_comp.columns.to_list() + ['Ent'])\n",
    "top_50_comp.columns = ['Term', 'Tech', 'Ent']\n",
    "\n",
    "for index, row in entertainment_top_50.iterrows():\n",
    "    if row[0] in top_50_comp.values:\n",
    "        top_50_comp.loc[top_50_comp.Term == row[0], 'Ent'] = row[1]\n",
    "    else:\n",
    "        top_50_comp.loc[top_50_comp.shape[0]] = [row[0], 0, row[1]]\n",
    "top_50_comp['Ent'] = top_50_comp['Ent'].fillna(0)\n",
    "\n",
    "top_50_comp['Highest'] = top_50_comp[['Tech','Ent']].max(axis=1)\n",
    "top_50_comp = top_50_comp.sort_values(['Highest'], ascending=False)\n",
    "\n",
    "top_50_comp.plot(x='Term', y=['Tech', 'Ent'], kind='bar', figsize=(15,6))\n",
    "plt.title('Top 50 (from each class) Term Frequency Distribution Comparison')\n",
    "plt.show()\n"
   ]
  },
  {
   "cell_type": "markdown",
   "metadata": {},
   "source": [
    "Class Distribution"
   ]
  },
  {
   "cell_type": "code",
   "execution_count": 10,
   "metadata": {},
   "outputs": [
    {
     "data": {
      "image/png": "[encoded data removed]",
      "text/plain": [
       "<Figure size 216x432 with 1 Axes>"
      ]
     },
     "metadata": {
      "needs_background": "light"
     },
     "output_type": "display_data"
    },
    {
     "data": {
      "image/png": "[encoded data removed]",
      "text/plain": [
       "<Figure size 216x432 with 1 Axes>"
      ]
     },
     "metadata": {
      "needs_background": "light"
     },
     "output_type": "display_data"
    }
   ],
   "source": [
    "t = len(tech_df)/(len(tech_df)+len(entertainment_df))\n",
    "e = len(entertainment_df)/(len(tech_df)+len(entertainment_df))\n",
    "x = ['Technology', 'Entertainment']\n",
    "y = [t, e]\n",
    "plt.figure(figsize=(3, 6))\n",
    "plt.bar(x, y)\n",
    "plt.title('Class Distribution Fraction')\n",
    "plt.show()\n",
    "\n",
    "y = [len(tech_df), len(entertainment_df)]\n",
    "plt.figure(figsize=(3, 6))\n",
    "plt.bar(x, y)\n",
    "plt.title('Class Distribution Count')\n",
    "plt.show()"
   ]
  },
  {
   "cell_type": "markdown",
   "metadata": {},
   "source": [
    "## Task 2: Classification Models Learning"
   ]
  },
  {
   "cell_type": "markdown",
   "metadata": {},
   "source": [
    "### Logistic Regression\n",
    "###### Train your logistic regression classifier with L2-regularization. Consider different values of the regularization term λ. Describe the effect of the regularization parameter λ on the outcome in terms of bias and variance. Report the plot generated for specific λ values with training loss on the y-axis versus λ on the x-axis to support your claim."
   ]
  },
  {
   "cell_type": "code",
   "execution_count": 11,
   "metadata": {},
   "outputs": [],
   "source": [
    "# Matthew Young\n",
    "\n"
   ]
  },
  {
   "cell_type": "markdown",
   "metadata": {},
   "source": [
    "### Naive Bayes\n",
    "###### Train a Naive Bayes classifier using all articles features. Report the (i) top-20 most identifiable words that are most likely to occur in the articles over two classes using your NB classifier, and (ii) the top-20 words that maximize the following quantity 𝑃(𝑋𝑤=1|𝑌=𝑦)/𝑃(𝑋𝑤=1|𝑌≠𝑦). Which list of words describe the two classes better? Briefly explain your reasoning. - She's going to change some stuff and make an announcement\n"
   ]
  },
  {
   "cell_type": "code",
   "execution_count": 12,
   "metadata": {},
   "outputs": [
    {
     "name": "stdout",
     "output_type": "stream",
     "text": [
      "0.9953271028037384\n"
     ]
    },
    {
     "data": {
      "text/html": [
       "<div>\n",
       "<style scoped>\n",
       "    .dataframe tbody tr th:only-of-type {\n",
       "        vertical-align: middle;\n",
       "    }\n",
       "\n",
       "    .dataframe tbody tr th {\n",
       "        vertical-align: top;\n",
       "    }\n",
       "\n",
       "    .dataframe thead th {\n",
       "        text-align: right;\n",
       "    }\n",
       "</style>\n",
       "<table border=\"1\" class=\"dataframe\">\n",
       "  <thead>\n",
       "    <tr style=\"text-align: right;\">\n",
       "      <th></th>\n",
       "      <th>00</th>\n",
       "      <th>000</th>\n",
       "      <th>000th</th>\n",
       "      <th>001st</th>\n",
       "      <th>0051</th>\n",
       "      <th>007</th>\n",
       "      <th>0100</th>\n",
       "      <th>0130</th>\n",
       "      <th>028</th>\n",
       "      <th>05</th>\n",
       "      <th>...</th>\n",
       "      <th>zola</th>\n",
       "      <th>zombie</th>\n",
       "      <th>zombies</th>\n",
       "      <th>zone</th>\n",
       "      <th>zonealarm</th>\n",
       "      <th>zones</th>\n",
       "      <th>zoom</th>\n",
       "      <th>zooms</th>\n",
       "      <th>zooropa</th>\n",
       "      <th>zorro</th>\n",
       "    </tr>\n",
       "  </thead>\n",
       "  <tbody>\n",
       "    <tr>\n",
       "      <th>0</th>\n",
       "      <td>0</td>\n",
       "      <td>1</td>\n",
       "      <td>0</td>\n",
       "      <td>0</td>\n",
       "      <td>0</td>\n",
       "      <td>0</td>\n",
       "      <td>0</td>\n",
       "      <td>0</td>\n",
       "      <td>0</td>\n",
       "      <td>0</td>\n",
       "      <td>...</td>\n",
       "      <td>0</td>\n",
       "      <td>0</td>\n",
       "      <td>0</td>\n",
       "      <td>0</td>\n",
       "      <td>0</td>\n",
       "      <td>0</td>\n",
       "      <td>0</td>\n",
       "      <td>0</td>\n",
       "      <td>0</td>\n",
       "      <td>0</td>\n",
       "    </tr>\n",
       "    <tr>\n",
       "      <th>1</th>\n",
       "      <td>0</td>\n",
       "      <td>0</td>\n",
       "      <td>0</td>\n",
       "      <td>0</td>\n",
       "      <td>0</td>\n",
       "      <td>0</td>\n",
       "      <td>0</td>\n",
       "      <td>0</td>\n",
       "      <td>0</td>\n",
       "      <td>0</td>\n",
       "      <td>...</td>\n",
       "      <td>0</td>\n",
       "      <td>0</td>\n",
       "      <td>0</td>\n",
       "      <td>0</td>\n",
       "      <td>0</td>\n",
       "      <td>0</td>\n",
       "      <td>0</td>\n",
       "      <td>0</td>\n",
       "      <td>0</td>\n",
       "      <td>0</td>\n",
       "    </tr>\n",
       "    <tr>\n",
       "      <th>2</th>\n",
       "      <td>0</td>\n",
       "      <td>0</td>\n",
       "      <td>0</td>\n",
       "      <td>0</td>\n",
       "      <td>0</td>\n",
       "      <td>0</td>\n",
       "      <td>0</td>\n",
       "      <td>0</td>\n",
       "      <td>0</td>\n",
       "      <td>0</td>\n",
       "      <td>...</td>\n",
       "      <td>0</td>\n",
       "      <td>0</td>\n",
       "      <td>0</td>\n",
       "      <td>0</td>\n",
       "      <td>0</td>\n",
       "      <td>0</td>\n",
       "      <td>0</td>\n",
       "      <td>0</td>\n",
       "      <td>0</td>\n",
       "      <td>0</td>\n",
       "    </tr>\n",
       "    <tr>\n",
       "      <th>3</th>\n",
       "      <td>0</td>\n",
       "      <td>0</td>\n",
       "      <td>0</td>\n",
       "      <td>0</td>\n",
       "      <td>0</td>\n",
       "      <td>0</td>\n",
       "      <td>0</td>\n",
       "      <td>0</td>\n",
       "      <td>0</td>\n",
       "      <td>0</td>\n",
       "      <td>...</td>\n",
       "      <td>0</td>\n",
       "      <td>0</td>\n",
       "      <td>0</td>\n",
       "      <td>0</td>\n",
       "      <td>0</td>\n",
       "      <td>0</td>\n",
       "      <td>0</td>\n",
       "      <td>0</td>\n",
       "      <td>0</td>\n",
       "      <td>0</td>\n",
       "    </tr>\n",
       "    <tr>\n",
       "      <th>4</th>\n",
       "      <td>0</td>\n",
       "      <td>0</td>\n",
       "      <td>0</td>\n",
       "      <td>0</td>\n",
       "      <td>0</td>\n",
       "      <td>0</td>\n",
       "      <td>0</td>\n",
       "      <td>0</td>\n",
       "      <td>0</td>\n",
       "      <td>0</td>\n",
       "      <td>...</td>\n",
       "      <td>0</td>\n",
       "      <td>0</td>\n",
       "      <td>0</td>\n",
       "      <td>0</td>\n",
       "      <td>0</td>\n",
       "      <td>0</td>\n",
       "      <td>0</td>\n",
       "      <td>0</td>\n",
       "      <td>1</td>\n",
       "      <td>0</td>\n",
       "    </tr>\n",
       "    <tr>\n",
       "      <th>...</th>\n",
       "      <td>...</td>\n",
       "      <td>...</td>\n",
       "      <td>...</td>\n",
       "      <td>...</td>\n",
       "      <td>...</td>\n",
       "      <td>...</td>\n",
       "      <td>...</td>\n",
       "      <td>...</td>\n",
       "      <td>...</td>\n",
       "      <td>...</td>\n",
       "      <td>...</td>\n",
       "      <td>...</td>\n",
       "      <td>...</td>\n",
       "      <td>...</td>\n",
       "      <td>...</td>\n",
       "      <td>...</td>\n",
       "      <td>...</td>\n",
       "      <td>...</td>\n",
       "      <td>...</td>\n",
       "      <td>...</td>\n",
       "      <td>...</td>\n",
       "    </tr>\n",
       "    <tr>\n",
       "      <th>423</th>\n",
       "      <td>0</td>\n",
       "      <td>3</td>\n",
       "      <td>0</td>\n",
       "      <td>0</td>\n",
       "      <td>0</td>\n",
       "      <td>0</td>\n",
       "      <td>0</td>\n",
       "      <td>0</td>\n",
       "      <td>0</td>\n",
       "      <td>0</td>\n",
       "      <td>...</td>\n",
       "      <td>0</td>\n",
       "      <td>0</td>\n",
       "      <td>0</td>\n",
       "      <td>0</td>\n",
       "      <td>0</td>\n",
       "      <td>0</td>\n",
       "      <td>0</td>\n",
       "      <td>0</td>\n",
       "      <td>0</td>\n",
       "      <td>0</td>\n",
       "    </tr>\n",
       "    <tr>\n",
       "      <th>424</th>\n",
       "      <td>0</td>\n",
       "      <td>0</td>\n",
       "      <td>0</td>\n",
       "      <td>0</td>\n",
       "      <td>0</td>\n",
       "      <td>0</td>\n",
       "      <td>0</td>\n",
       "      <td>0</td>\n",
       "      <td>0</td>\n",
       "      <td>0</td>\n",
       "      <td>...</td>\n",
       "      <td>0</td>\n",
       "      <td>0</td>\n",
       "      <td>0</td>\n",
       "      <td>0</td>\n",
       "      <td>0</td>\n",
       "      <td>0</td>\n",
       "      <td>0</td>\n",
       "      <td>0</td>\n",
       "      <td>0</td>\n",
       "      <td>0</td>\n",
       "    </tr>\n",
       "    <tr>\n",
       "      <th>425</th>\n",
       "      <td>0</td>\n",
       "      <td>0</td>\n",
       "      <td>0</td>\n",
       "      <td>0</td>\n",
       "      <td>0</td>\n",
       "      <td>0</td>\n",
       "      <td>0</td>\n",
       "      <td>0</td>\n",
       "      <td>0</td>\n",
       "      <td>0</td>\n",
       "      <td>...</td>\n",
       "      <td>0</td>\n",
       "      <td>0</td>\n",
       "      <td>0</td>\n",
       "      <td>0</td>\n",
       "      <td>0</td>\n",
       "      <td>0</td>\n",
       "      <td>0</td>\n",
       "      <td>0</td>\n",
       "      <td>0</td>\n",
       "      <td>0</td>\n",
       "    </tr>\n",
       "    <tr>\n",
       "      <th>426</th>\n",
       "      <td>0</td>\n",
       "      <td>0</td>\n",
       "      <td>0</td>\n",
       "      <td>0</td>\n",
       "      <td>0</td>\n",
       "      <td>0</td>\n",
       "      <td>0</td>\n",
       "      <td>0</td>\n",
       "      <td>0</td>\n",
       "      <td>0</td>\n",
       "      <td>...</td>\n",
       "      <td>0</td>\n",
       "      <td>0</td>\n",
       "      <td>0</td>\n",
       "      <td>0</td>\n",
       "      <td>0</td>\n",
       "      <td>0</td>\n",
       "      <td>0</td>\n",
       "      <td>0</td>\n",
       "      <td>0</td>\n",
       "      <td>0</td>\n",
       "    </tr>\n",
       "    <tr>\n",
       "      <th>427</th>\n",
       "      <td>0</td>\n",
       "      <td>0</td>\n",
       "      <td>0</td>\n",
       "      <td>0</td>\n",
       "      <td>0</td>\n",
       "      <td>0</td>\n",
       "      <td>0</td>\n",
       "      <td>0</td>\n",
       "      <td>0</td>\n",
       "      <td>0</td>\n",
       "      <td>...</td>\n",
       "      <td>0</td>\n",
       "      <td>0</td>\n",
       "      <td>0</td>\n",
       "      <td>0</td>\n",
       "      <td>0</td>\n",
       "      <td>0</td>\n",
       "      <td>0</td>\n",
       "      <td>0</td>\n",
       "      <td>0</td>\n",
       "      <td>0</td>\n",
       "    </tr>\n",
       "  </tbody>\n",
       "</table>\n",
       "<p>428 rows × 13518 columns</p>\n",
       "</div>"
      ],
      "text/plain": [
       "     00  000  000th  001st  0051  007  0100  0130  028  05  ...  zola  zombie  \\\n",
       "0     0    1      0      0     0    0     0     0    0   0  ...     0       0   \n",
       "1     0    0      0      0     0    0     0     0    0   0  ...     0       0   \n",
       "2     0    0      0      0     0    0     0     0    0   0  ...     0       0   \n",
       "3     0    0      0      0     0    0     0     0    0   0  ...     0       0   \n",
       "4     0    0      0      0     0    0     0     0    0   0  ...     0       0   \n",
       "..   ..  ...    ...    ...   ...  ...   ...   ...  ...  ..  ...   ...     ...   \n",
       "423   0    3      0      0     0    0     0     0    0   0  ...     0       0   \n",
       "424   0    0      0      0     0    0     0     0    0   0  ...     0       0   \n",
       "425   0    0      0      0     0    0     0     0    0   0  ...     0       0   \n",
       "426   0    0      0      0     0    0     0     0    0   0  ...     0       0   \n",
       "427   0    0      0      0     0    0     0     0    0   0  ...     0       0   \n",
       "\n",
       "     zombies  zone  zonealarm  zones  zoom  zooms  zooropa  zorro  \n",
       "0          0     0          0      0     0      0        0      0  \n",
       "1          0     0          0      0     0      0        0      0  \n",
       "2          0     0          0      0     0      0        0      0  \n",
       "3          0     0          0      0     0      0        0      0  \n",
       "4          0     0          0      0     0      0        1      0  \n",
       "..       ...   ...        ...    ...   ...    ...      ...    ...  \n",
       "423        0     0          0      0     0      0        0      0  \n",
       "424        0     0          0      0     0      0        0      0  \n",
       "425        0     0          0      0     0      0        0      0  \n",
       "426        0     0          0      0     0      0        0      0  \n",
       "427        0     0          0      0     0      0        0      0  \n",
       "\n",
       "[428 rows x 13518 columns]"
      ]
     },
     "execution_count": 12,
     "metadata": {},
     "output_type": "execute_result"
    }
   ],
   "source": [
    "# Emily\n",
    "\n",
    "from sklearn.naive_bayes import MultinomialNB\n",
    "from sklearn import metrics\n",
    "\n",
    "# X_train is vectorised features, Y_train is the classes of each row / target variable\n",
    "X_train = vector1\n",
    "target_col = df[\"Category\"]\n",
    "Y_train = target_col.to_numpy()\n",
    "\n",
    "NB_clf = MultinomialNB()\n",
    "NB_clf.fit(X_train, Y_train)\n",
    "\n",
    "# Training accuracy\n",
    "train_acc = NB_clf.score(X_train, Y_train)\n",
    "\n",
    "print(train_acc)\n",
    "\n",
    "# Testing accuracy\n",
    "#Y_pred = NB_clf.predict(X_test)\n",
    "#print(\"Test Accuracy:\",metrics.accuracy_score(Y_Test, Y_pred))\n",
    "\n",
    "####EMILY HERE IS YOUR DATAFRAME#####\n",
    "v1_df_emily"
   ]
  },
  {
   "cell_type": "markdown",
   "metadata": {},
   "source": [
    "#### (i)"
   ]
  },
  {
   "cell_type": "code",
   "execution_count": 13,
   "metadata": {},
   "outputs": [
    {
     "name": "stdout",
     "output_type": "stream",
     "text": [
      "Top 20 Tech:\n",
      "said          892\n",
      "people        507\n",
      "new           304\n",
      "mobile        290\n",
      "mr            288\n",
      "one           286\n",
      "also          273\n",
      "would         267\n",
      "could         255\n",
      "technology    247\n",
      "use           228\n",
      "users         214\n",
      "net           214\n",
      "software      213\n",
      "games         212\n",
      "us            210\n",
      "music         203\n",
      "many          202\n",
      "year          201\n",
      "phone         196\n",
      "dtype: int64\n",
      "Top 20 Entertainment:\n",
      "said      465\n",
      "film      420\n",
      "best      324\n",
      "year      241\n",
      "music     210\n",
      "also      206\n",
      "us        201\n",
      "new       196\n",
      "one       193\n",
      "show      180\n",
      "first     155\n",
      "awards    137\n",
      "tv        130\n",
      "last      127\n",
      "uk        127\n",
      "actor     126\n",
      "number    124\n",
      "band      123\n",
      "mr        120\n",
      "star      118\n",
      "dtype: int64\n"
     ]
    }
   ],
   "source": [
    "# Df for grouping - vectorsied df with target df \n",
    "count_df = pd.concat([v1_df_emily,target_col], axis=1)\n",
    "\n",
    "# Grouped data by category\n",
    "grouped = count_df.groupby(count_df.Category)\n",
    "\n",
    "# Split data into df of each category\n",
    "# dropped category column for sum\n",
    "tech_df = grouped.get_group(\"tech\")\n",
    "tech_df = tech_df.drop(\"Category\", axis=1)\n",
    "\n",
    "ent_df = grouped.get_group(\"entertainment\")\n",
    "ent_df = ent_df.drop(\"Category\", axis=1)\n",
    "\n",
    "# Summed each colum in each df\n",
    "sum_tech_series = tech_df.sum()\n",
    "sum_ent_series = ent_df.sum()\n",
    "\n",
    "# Sorting each series to get top 20\n",
    "sorted_tech = sum_tech_series.sort_values(ascending = False)\n",
    "top_20_tech = sorted_tech[:20]\n",
    "print(\"Top 20 Tech:\")\n",
    "print(top_20_tech)\n",
    "\n",
    "sorted_ent = sum_ent_series.sort_values(ascending = False)\n",
    "top_20_ent = sorted_ent[:20]\n",
    "print(\"Top 20 Entertainment:\")\n",
    "print(top_20_ent)"
   ]
  },
  {
   "cell_type": "markdown",
   "metadata": {},
   "source": [
    "#### (ii)"
   ]
  },
  {
   "cell_type": "code",
   "execution_count": 14,
   "metadata": {},
   "outputs": [
    {
     "name": "stdout",
     "output_type": "stream",
     "text": [
      "Top 20 Tech:\n",
      "users         107.500000\n",
      "software      107.000000\n",
      "mobile         97.000000\n",
      "microsoft      77.500000\n",
      "broadband      64.500000\n",
      "virus          61.500000\n",
      "firms          57.000000\n",
      "pc             54.500000\n",
      "net            53.750000\n",
      "technology     49.600000\n",
      "phones         48.333333\n",
      "spam           42.500000\n",
      "gadget         36.000000\n",
      "games          35.500000\n",
      "consumer       34.500000\n",
      "mobiles        34.000000\n",
      "gadgets        33.500000\n",
      "windows        33.500000\n",
      "machines       33.500000\n",
      "phone          32.833333\n",
      "dtype: float64\n",
      "Top 20 Entertainment:\n",
      "actress        45.500000\n",
      "singer         45.000000\n",
      "oscar          44.000000\n",
      "band           41.333333\n",
      "stars          38.000000\n",
      "album          33.000000\n",
      "aviator        31.500000\n",
      "chart          30.000000\n",
      "nominated      27.500000\n",
      "rock           26.500000\n",
      "festival       26.500000\n",
      "actor          25.400000\n",
      "nominations    24.000000\n",
      "charles        23.500000\n",
      "foxx           22.000000\n",
      "comedy         21.666667\n",
      "oscars         21.500000\n",
      "starring       21.000000\n",
      "singles        19.000000\n",
      "musical        18.250000\n",
      "dtype: float64\n"
     ]
    }
   ],
   "source": [
    "# Will break since some words are in an article multiple times (prob can't be more than one)\n",
    "#total_tech = tech_df.shape[0]\n",
    "#prob_word_given_tech = sum_tech_series / total_tech\n",
    "#total_ent = ent_df.shape[0]\n",
    "#prob_word_given_ent = sum_ent_series / total_ent\n",
    "\n",
    "# word in tech / word not in tech - with smoothing\n",
    "tech_series = (sum_tech_series + 1) / (sum_ent_series + 2)\n",
    "\n",
    "# word in entertainment / word not in entertainment - with smoothing\n",
    "ent_series = (sum_ent_series + 1) / (sum_tech_series + 2)\n",
    "\n",
    "# Sorting each series to get top 20\n",
    "sorted_tech2 = tech_series.sort_values(ascending = False)\n",
    "top_20_tech2 = sorted_tech2[:20]\n",
    "print(\"Top 20 Tech:\")\n",
    "print(top_20_tech2)\n",
    "\n",
    "sorted_ent2 = ent_series.sort_values(ascending = False)\n",
    "top_20_ent2 = sorted_ent2[:20]\n",
    "print(\"Top 20 Entertainment:\")\n",
    "print(top_20_ent2)"
   ]
  },
  {
   "cell_type": "markdown",
   "metadata": {},
   "source": [
    "\n",
    "The second list of words describes the two classes better. The top 20 words for each class in (ii) look to be more relevant than the top 20 words for each class in (i)."
   ]
  },
  {
   "cell_type": "markdown",
   "metadata": {},
   "source": [
    "### Soft Value Margin (SVM)\n",
    "###### Train your SVM classification models on the training dataset. You need to report two surface plots for: (i) the soft-margin linear SVM with your choice of misclassification penalty (𝐶), and (ii) the hard-margin RBF kernel with your choice of kernel width (σ). Explain the impact of penalty 𝐶 on the soft-margin decision boundaries, as well as the kernel hyperparameter on the hard-margin decision boundaries."
   ]
  },
  {
   "cell_type": "code",
   "execution_count": 15,
   "metadata": {},
   "outputs": [],
   "source": [
    "# Humza"
   ]
  },
  {
   "cell_type": "markdown",
   "metadata": {},
   "source": [
    "### Nearest Neighbor\n",
    "###### Consider the neural network with the following hyperparameters: the initial weights uniformly drawn in range [0,0.1] with learning rate 0.01.\n",
    "######  ● Train a single hidden layer neural network using the hyperparameters on the training dataset, except for the number of hidden units (x) which should vary among 5, 20, and 40. Run the optimization for 100 epochs each time. Namely, the input layer consists of n features x = [x1, ..., xn]T , the hidden layer has x nodes z = [z1, ..., zx]T , and the output layer is a probability distribution y = [y1, y2]T over two classes.\n",
    "######  ● Plot the average training cross-entropy loss as shown below on the y-axis versus the number of hidden units on the x-axis. Explain the effect of numbers of hidden units. 𝐶𝑟𝑜𝑠𝑠𝐸𝑛𝑡𝑟𝑜𝑝𝑦𝐿𝑜𝑠𝑠 =− 𝑖=1 2 Σ 𝑦𝑖 log(𝑦𝑖 ^ )"
   ]
  },
  {
   "cell_type": "code",
   "execution_count": null,
   "metadata": {},
   "outputs": [],
   "source": []
  },
  {
   "cell_type": "markdown",
   "metadata": {},
   "source": [
    "## Task 3"
   ]
  },
  {
   "cell_type": "markdown",
   "metadata": {},
   "source": [
    "### a)"
   ]
  },
  {
   "cell_type": "code",
   "execution_count": null,
   "metadata": {},
   "outputs": [],
   "source": []
  },
  {
   "cell_type": "markdown",
   "metadata": {},
   "source": [
    "### b)"
   ]
  },
  {
   "cell_type": "code",
   "execution_count": 16,
   "metadata": {},
   "outputs": [],
   "source": [
    "trainDF = pd.read_csv(\"train.csv\", skiprows=0, header=0, na_values= \"\", dtype=str)\n",
    "testDF = pd.read_csv(\"test.csv\", skiprows=0, header=0, na_values= \"\", dtype=str)"
   ]
  },
  {
   "cell_type": "code",
   "execution_count": 17,
   "metadata": {},
   "outputs": [
    {
     "name": "stdout",
     "output_type": "stream",
     "text": [
      "Training accuracy: [0.9976642285987076, 0.9964946379554329, 0.9883194380509096] \n",
      "Validation accuracy: [0.9836662106703147, 0.9836662106703147, 0.9557318741450068]\n",
      "Testing accuracy [0.9811320754716981, 0.9716981132075472, 0.9716981132075472]\n"
     ]
    }
   ],
   "source": [
    "# NAIVE BAYES\n",
    "from sklearn.model_selection import cross_validate\n",
    "from sklearn.pipeline import make_pipeline\n",
    "\n",
    "X_train = trainDF[\"Text\"]\n",
    "Y_train = trainDF[\"Category\"]\n",
    "X_test = testDF[\"Text\"]\n",
    "Y_test = testDF[\"Category\"]\n",
    "\n",
    "# laplace smoothing hyperparameter\n",
    "# alpha = 0.1\n",
    "NB_m1 = make_pipeline(CountVectorizer(), MultinomialNB(alpha = 0.1))\n",
    "# alpha = 1.0\n",
    "NB_m2 = make_pipeline(CountVectorizer(), MultinomialNB(alpha = 1.0))\n",
    "# alpha = 10.0\n",
    "NB_m3 = make_pipeline(CountVectorizer(), MultinomialNB(alpha = 10.0))\n",
    "\n",
    "# 5-fold Cross Validation for each hyperparameter\n",
    "cv_results_NB_m1 = cross_validate(NB_m1, X_train, Y_train, return_train_score=True)\n",
    "cv_results_NB_m2 = cross_validate(NB_m2, X_train, Y_train, return_train_score=True)\n",
    "cv_results_NB_m3 = cross_validate(NB_m3, X_train, Y_train, return_train_score=True)\n",
    "\n",
    "# Taking the mean training and validation accuracy of the 5-folds for each Hyperparameter\n",
    "NB_TrAcc = [cv_results_NB_m1['train_score'].mean(), cv_results_NB_m2['train_score'].mean(), cv_results_NB_m3['train_score'].mean()]\n",
    "NB_VaAcc = [cv_results_NB_m1['test_score'].mean(), cv_results_NB_m2['test_score'].mean(), cv_results_NB_m3['test_score'].mean()]\n",
    "\n",
    "print(\"Training accuracy:\", NB_TrAcc, \"\\nValidation accuracy:\", NB_VaAcc)\n",
    "\n",
    "# Getting Testing accuracy for each Hyperparamer\n",
    "\n",
    "NB_m1.fit(X_train, Y_train)\n",
    "Y_pred_m1 = NB_m1.predict(X_test)\n",
    "\n",
    "NB_m2.fit(X_train, Y_train)\n",
    "Y_pred_m2 = NB_m2.predict(X_test)\n",
    "\n",
    "NB_m3.fit(X_train, Y_train)\n",
    "Y_pred_m3 = NB_m3.predict(X_test)\n",
    "\n",
    "NB_TsAcc = [metrics.accuracy_score(Y_test, Y_pred_m1), metrics.accuracy_score(Y_test, Y_pred_m2), metrics.accuracy_score(Y_test, Y_pred_m3)]\n",
    "print(\"Testing accuracy\", NB_TsAcc)"
   ]
  },
  {
   "cell_type": "code",
   "execution_count": 19,
   "metadata": {},
   "outputs": [
    {
     "data": {
      "image/png": "[encoded data removed]",
      "text/plain": [
       "<Figure size 432x288 with 1 Axes>"
      ]
     },
     "metadata": {
      "needs_background": "light"
     },
     "output_type": "display_data"
    }
   ],
   "source": [
    "# NB Accuracy Graph\n",
    "x = [0.1, 1.0, 10.0]\n",
    "plt.plot(x, NB_TrAcc, '--ro', label='Training accuracy')\n",
    "plt.plot(x, NB_VaAcc, '--go', label='Validation accuracy')\n",
    "plt.plot(x, NB_TsAcc, '--mo', label='Testing accuracy')\n",
    "plt.legend()\n",
    "plt.xlabel(\"Parameter alpha\")\n",
    "plt.ylabel(\"Accuracy\")\n",
    "plt.ylim([0.9, 1.0])\n",
    "plt.grid()\n",
    "plt.tight_layout()\n",
    "plt.xscale('log')\n",
    "plt.show()"
   ]
  }
 ],
 "metadata": {
  "interpreter": {
   "hash": "aee8b7b246df8f9039afb4144a1f6fd8d2ca17a180786b69acc140d282b71a49"
  },
  "kernelspec": {
   "display_name": "Python 3.9.7 64-bit",
   "language": "python",
   "name": "python3"
  },
  "language_info": {
   "codemirror_mode": {
    "name": "ipython",
    "version": 3
   },
   "file_extension": ".py",
   "mimetype": "text/x-python",
   "name": "python",
   "nbconvert_exporter": "python",
   "pygments_lexer": "ipython3",
   "version": "3.8.2"
  },
  "orig_nbformat": 4
 },
 "nbformat": 4,
 "nbformat_minor": 2
}
